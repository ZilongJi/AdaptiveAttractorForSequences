{
 "cells": [
  {
   "cell_type": "markdown",
   "metadata": {},
   "source": [
    "# Check the correlation of both theta sweep length and replay diffusivity with spike numbers"
   ]
  },
  {
   "cell_type": "code",
   "execution_count": 1,
   "metadata": {},
   "outputs": [],
   "source": [
    "%matplotlib inline"
   ]
  },
  {
   "cell_type": "code",
   "execution_count": 2,
   "metadata": {},
   "outputs": [],
   "source": [
    "import os\n",
    "import pandas as pd\n",
    "import numpy as np\n",
    "import matplotlib.pyplot as plt\n",
    "from matplotlib.cm import ScalarMappable\n",
    "from matplotlib.colors import ListedColormap\n",
    "from scipy.stats import pearsonr\n",
    "from tqdm.auto import tqdm\n",
    "import pickle\n",
    "\n",
    "from loren_frank_data_processing import (make_epochs_dataframe, make_neuron_dataframe)\n",
    "from src.parameters import (ANIMALS, MIN_N_NEURONS, _BRAIN_AREAS)"
   ]
  },
  {
   "cell_type": "markdown",
   "metadata": {},
   "source": [
    "### 1, get the number of spikes for theta and for ripple events"
   ]
  },
  {
   "cell_type": "code",
   "execution_count": 4,
   "metadata": {},
   "outputs": [],
   "source": [
    "\n",
    "def get_multispike_numbers(epoch_key, DATA_DIR, sweep_speed_threshold=4):\n",
    "    animal, day, epoch = epoch_key\n",
    "        \n",
    "    #load multiunit spike info\n",
    "    multiunit_fr_filename = os.path.join(\n",
    "        DATA_DIR,\n",
    "        'ThetaSweepTrajectories',\n",
    "        f'{animal}_{day:02d}_{epoch:02d}_spike_info.pkl')\n",
    "    \n",
    "    with open(multiunit_fr_filename, 'rb') as f:\n",
    "        [spike, multiunit, multiunit_fr] = pickle.load(f)\n",
    "    \n",
    "    multiunit_spikes = (np.any(~np.isnan(multiunit.values), axis=1)\n",
    "                        ).astype(np.float)\n",
    "    sum_multiunit_spikes = np.sum(multiunit_spikes, axis=1)\n",
    "        \n",
    "    #load speed info\n",
    "    speed_filename = os.path.join(\n",
    "        DATA_DIR,\n",
    "        'ThetaSweepTrajectories',\n",
    "        f'{animal}_{day:02d}_{epoch:02d}_speed_info.pkl')\n",
    "    \n",
    "    with open(speed_filename, 'rb') as f:\n",
    "        speed_dic = pickle.load(f)\n",
    "        #if length of speed_dic is less than spike, then reindex speed_dic by adding 0s\n",
    "        if len(speed_dic) < len(spike):\n",
    "            speed_dic = speed_dic.reindex(spike.index, fill_value=0)\n",
    "        speed = speed_dic.values\n",
    "    \n",
    "    is_running_index = speed > sweep_speed_threshold\n",
    "\n",
    "    #get the number of spikes from sum_multiunit_spikes when running\n",
    "    running_spikes = sum_multiunit_spikes[is_running_index].sum()\n",
    "    #get the duration of running in ms, sampling time is 2ms\n",
    "    running_duration = is_running_index.sum()*2\n",
    "    \n",
    "    mean_runnning_spikes = running_spikes/running_duration  #spike per ms\n",
    "    mean_runnning_spikes = 100 * mean_runnning_spikes #spike per 100ms\n",
    "\n",
    "    #load ripple info from csv file under folder: ReplayTrajectories\n",
    "    replay_info_path = os.path.join(\n",
    "        DATA_DIR,\n",
    "        'ReplayTrajectories/'\n",
    "        f\"{animal}_{day:02d}_{epoch:02d}_clusterless_1D_no_interneuron_replay_info_80.csv\",\n",
    "    )\n",
    "    \n",
    "    #read the csv file and extract the first three columns\n",
    "    replay_info = pd.read_csv(replay_info_path, usecols=[0, 1, 2])\n",
    "\n",
    "    #get the replay trajectory from pkl file under folder: ReplayTrajectories\n",
    "    with open(os.path.join(DATA_DIR, 'ReplayTrajectories', f'{animal}_{day:02d}_{epoch:02d}_traj.pkl'), 'rb') as f:\n",
    "        Replay_traj = pickle.load(f)\n",
    "\n",
    "    #for each replay trajectory in Replay_traj, calculate te step size of two successive points\n",
    "    #and get the multiunit spikes in the corresponding time bin\n",
    "    ripple_spikes_list = []\n",
    "    total_ripple_duration = []\n",
    "    times = spike.index\n",
    "\n",
    "    for i in Replay_traj.keys():\n",
    "        #get the start time of the replay trajectory\n",
    "        replay_start_time = replay_info.loc[replay_info['ripple_number'] == i, 'start_time'].values[0]\n",
    "        #keep strings after 'days '\n",
    "        replay_start_time = replay_start_time.split('days ')[1]\n",
    "        #convert to time delta  \n",
    "        replay_start_time = pd.to_timedelta(replay_start_time)\n",
    "        \n",
    "        replay_end_time = replay_info.loc[replay_info['ripple_number'] == i, 'end_time'].values[0]\n",
    "        \n",
    "        #get index when time > replay_start_time and time < replay_end_time\n",
    "        is_ripple_index = times.get_indexer_for(times[(times>=replay_start_time) & (times<=replay_end_time)])\n",
    "        \n",
    "        #het the sum_multiunit_spikes with index\n",
    "        summed_spikes = np.sum(sum_multiunit_spikes[is_ripple_index])\n",
    "        \n",
    "        #ripple duration in ms\n",
    "        ripple_duration = (replay_end_time - replay_start_time).total_seconds()*1000\n",
    "        total_ripple_duration.append(ripple_duration)\n",
    "        \n",
    "        ripple_spikes_list.append(summed_spikes)\n",
    "    \n",
    "    ripple_spikes = np.sum(ripple_spikes_list)\n",
    "    \n",
    "    total_ripple_duration = np.sum(total_ripple_duration)\n",
    "    \n",
    "    mean_ripple_spikes = ripple_spikes/total_ripple_duration  #spike per ms\n",
    "    mean_ripple_spikes = 100 * mean_ripple_spikes #spike per 100ms\n",
    "    \n",
    "    return mean_runnning_spikes, mean_ripple_spikes\n",
    "        \n"
   ]
  },
  {
   "cell_type": "code",
   "execution_count": 4,
   "metadata": {},
   "outputs": [],
   "source": [
    "epoch_key = ('gov', 8, 6)\n",
    "DATA_DIR = \"/home/zilong/Desktop/replay_trajectory_paper/Processed-Data/\"\n",
    "\n",
    "running_spikes, ripple_spikes = get_multispike_numbers(epoch_key, DATA_DIR)"
   ]
  },
  {
   "cell_type": "code",
   "execution_count": 5,
   "metadata": {},
   "outputs": [],
   "source": [
    "epoch_info = make_epochs_dataframe(ANIMALS)\n",
    "neuron_info = make_neuron_dataframe(ANIMALS)\n",
    "\n",
    "neuron_info = neuron_info.loc[\n",
    "(neuron_info.type == 'principal') &\n",
    "(neuron_info.numspikes > 100) &\n",
    "neuron_info.area.isin(_BRAIN_AREAS)]\n",
    "\n",
    "\n",
    "n_neurons = (neuron_info\n",
    "                .groupby(['animal', 'day', 'epoch'])\n",
    "                .neuron_id\n",
    "                .agg(len)\n",
    "                .rename('n_neurons')\n",
    "                .to_frame())\n",
    "\n",
    "epoch_info = epoch_info.join(n_neurons)\n",
    "is_w_track = (epoch_info.environment\n",
    "                .isin(['TrackA', 'TrackB', 'WTrackA', 'WTrackB']))\n",
    "\n",
    "is_animal = epoch_info.index.isin(['bon', 'fra', 'gov', 'dud', 'con', 'Cor', 'dav', 'egy', 'cha'], level='animal')\n",
    "\n",
    "valid_epochs = (is_w_track &\n",
    "                (epoch_info.n_neurons > MIN_N_NEURONS) &\n",
    "                is_animal\n",
    "                )\n",
    "\n"
   ]
  },
  {
   "cell_type": "code",
   "execution_count": 6,
   "metadata": {},
   "outputs": [
    {
     "name": "stderr",
     "output_type": "stream",
     "text": [
      "epochs:   0%|          | 0/24 [00:00<?, ?it/s]"
     ]
    },
    {
     "name": "stdout",
     "output_type": "stream",
     "text": [
      "Animal: bon, Day: 3, Epoch: 2\n"
     ]
    },
    {
     "name": "stderr",
     "output_type": "stream",
     "text": [
      "epochs:   4%|▍         | 1/24 [00:00<00:17,  1.35it/s]"
     ]
    },
    {
     "name": "stdout",
     "output_type": "stream",
     "text": [
      "Animal: bon, Day: 3, Epoch: 4\n"
     ]
    },
    {
     "name": "stderr",
     "output_type": "stream",
     "text": [
      "epochs:   8%|▊         | 2/24 [00:01<00:16,  1.31it/s]"
     ]
    },
    {
     "name": "stdout",
     "output_type": "stream",
     "text": [
      "Animal: bon, Day: 3, Epoch: 6\n"
     ]
    },
    {
     "name": "stderr",
     "output_type": "stream",
     "text": [
      "epochs:  12%|█▎        | 3/24 [00:02<00:15,  1.34it/s]"
     ]
    },
    {
     "name": "stdout",
     "output_type": "stream",
     "text": [
      "Animal: bon, Day: 4, Epoch: 4\n"
     ]
    },
    {
     "name": "stderr",
     "output_type": "stream",
     "text": [
      "epochs:  21%|██        | 5/24 [00:03<00:10,  1.76it/s]"
     ]
    },
    {
     "name": "stdout",
     "output_type": "stream",
     "text": [
      "Animal: bon, Day: 4, Epoch: 6\n"
     ]
    },
    {
     "name": "stderr",
     "output_type": "stream",
     "text": [
      "epochs:  25%|██▌       | 6/24 [00:03<00:11,  1.58it/s]"
     ]
    },
    {
     "name": "stdout",
     "output_type": "stream",
     "text": [
      "Animal: bon, Day: 5, Epoch: 2\n"
     ]
    },
    {
     "name": "stderr",
     "output_type": "stream",
     "text": [
      "epochs:  29%|██▉       | 7/24 [00:04<00:11,  1.49it/s]"
     ]
    },
    {
     "name": "stdout",
     "output_type": "stream",
     "text": [
      "Animal: bon, Day: 5, Epoch: 4\n"
     ]
    },
    {
     "name": "stderr",
     "output_type": "stream",
     "text": [
      "epochs:  33%|███▎      | 8/24 [00:05<00:11,  1.44it/s]"
     ]
    },
    {
     "name": "stdout",
     "output_type": "stream",
     "text": [
      "Animal: bon, Day: 5, Epoch: 6\n"
     ]
    },
    {
     "name": "stderr",
     "output_type": "stream",
     "text": [
      "epochs:  38%|███▊      | 9/24 [00:06<00:10,  1.42it/s]"
     ]
    },
    {
     "name": "stdout",
     "output_type": "stream",
     "text": [
      "Animal: bon, Day: 6, Epoch: 2\n"
     ]
    },
    {
     "name": "stderr",
     "output_type": "stream",
     "text": [
      "epochs:  42%|████▏     | 10/24 [00:06<00:10,  1.39it/s]"
     ]
    },
    {
     "name": "stdout",
     "output_type": "stream",
     "text": [
      "Animal: bon, Day: 6, Epoch: 4\n"
     ]
    },
    {
     "name": "stderr",
     "output_type": "stream",
     "text": [
      "epochs:  46%|████▌     | 11/24 [00:07<00:09,  1.35it/s]"
     ]
    },
    {
     "name": "stdout",
     "output_type": "stream",
     "text": [
      "Animal: bon, Day: 6, Epoch: 6\n"
     ]
    },
    {
     "name": "stderr",
     "output_type": "stream",
     "text": [
      "epochs:  50%|█████     | 12/24 [00:08<00:08,  1.35it/s]"
     ]
    },
    {
     "name": "stdout",
     "output_type": "stream",
     "text": [
      "Animal: bon, Day: 7, Epoch: 2\n"
     ]
    },
    {
     "name": "stderr",
     "output_type": "stream",
     "text": [
      "epochs:  54%|█████▍    | 13/24 [00:09<00:08,  1.34it/s]"
     ]
    },
    {
     "name": "stdout",
     "output_type": "stream",
     "text": [
      "Animal: bon, Day: 7, Epoch: 4\n"
     ]
    },
    {
     "name": "stderr",
     "output_type": "stream",
     "text": [
      "epochs:  58%|█████▊    | 14/24 [00:09<00:07,  1.33it/s]"
     ]
    },
    {
     "name": "stdout",
     "output_type": "stream",
     "text": [
      "Animal: bon, Day: 7, Epoch: 6\n"
     ]
    },
    {
     "name": "stderr",
     "output_type": "stream",
     "text": [
      "epochs:  62%|██████▎   | 15/24 [00:10<00:06,  1.37it/s]"
     ]
    },
    {
     "name": "stdout",
     "output_type": "stream",
     "text": [
      "Animal: bon, Day: 8, Epoch: 2\n"
     ]
    },
    {
     "name": "stderr",
     "output_type": "stream",
     "text": [
      "epochs:  67%|██████▋   | 16/24 [00:11<00:05,  1.37it/s]"
     ]
    },
    {
     "name": "stdout",
     "output_type": "stream",
     "text": [
      "Animal: bon, Day: 8, Epoch: 4\n"
     ]
    },
    {
     "name": "stderr",
     "output_type": "stream",
     "text": [
      "epochs:  71%|███████   | 17/24 [00:12<00:05,  1.36it/s]"
     ]
    },
    {
     "name": "stdout",
     "output_type": "stream",
     "text": [
      "Animal: bon, Day: 8, Epoch: 6\n"
     ]
    },
    {
     "name": "stderr",
     "output_type": "stream",
     "text": [
      "epochs:  75%|███████▌  | 18/24 [00:12<00:04,  1.38it/s]"
     ]
    },
    {
     "name": "stdout",
     "output_type": "stream",
     "text": [
      "Animal: bon, Day: 9, Epoch: 2\n"
     ]
    },
    {
     "name": "stderr",
     "output_type": "stream",
     "text": [
      "epochs:  79%|███████▉  | 19/24 [00:13<00:03,  1.33it/s]"
     ]
    },
    {
     "name": "stdout",
     "output_type": "stream",
     "text": [
      "Animal: bon, Day: 9, Epoch: 4\n"
     ]
    },
    {
     "name": "stderr",
     "output_type": "stream",
     "text": [
      "epochs:  83%|████████▎ | 20/24 [00:14<00:03,  1.30it/s]"
     ]
    },
    {
     "name": "stdout",
     "output_type": "stream",
     "text": [
      "Animal: bon, Day: 9, Epoch: 6\n"
     ]
    },
    {
     "name": "stderr",
     "output_type": "stream",
     "text": [
      "epochs:  88%|████████▊ | 21/24 [00:15<00:02,  1.33it/s]"
     ]
    },
    {
     "name": "stdout",
     "output_type": "stream",
     "text": [
      "Animal: bon, Day: 10, Epoch: 2\n"
     ]
    },
    {
     "name": "stderr",
     "output_type": "stream",
     "text": [
      "epochs:  92%|█████████▏| 22/24 [00:15<00:01,  1.32it/s]"
     ]
    },
    {
     "name": "stdout",
     "output_type": "stream",
     "text": [
      "Animal: bon, Day: 10, Epoch: 4\n"
     ]
    },
    {
     "name": "stderr",
     "output_type": "stream",
     "text": [
      "epochs:  96%|█████████▌| 23/24 [00:16<00:00,  1.31it/s]"
     ]
    },
    {
     "name": "stdout",
     "output_type": "stream",
     "text": [
      "Animal: bon, Day: 10, Epoch: 6\n"
     ]
    },
    {
     "name": "stderr",
     "output_type": "stream",
     "text": [
      "epochs: 100%|██████████| 24/24 [00:17<00:00,  1.38it/s]\n",
      "epochs:   0%|          | 0/27 [00:00<?, ?it/s]"
     ]
    },
    {
     "name": "stdout",
     "output_type": "stream",
     "text": [
      "Animal: fra, Day: 4, Epoch: 2\n"
     ]
    },
    {
     "name": "stderr",
     "output_type": "stream",
     "text": [
      "epochs:   4%|▎         | 1/27 [00:00<00:13,  1.89it/s]"
     ]
    },
    {
     "name": "stdout",
     "output_type": "stream",
     "text": [
      "Animal: fra, Day: 4, Epoch: 4\n"
     ]
    },
    {
     "name": "stderr",
     "output_type": "stream",
     "text": [
      "epochs:   7%|▋         | 2/27 [00:01<00:13,  1.81it/s]"
     ]
    },
    {
     "name": "stdout",
     "output_type": "stream",
     "text": [
      "Animal: fra, Day: 4, Epoch: 6\n"
     ]
    },
    {
     "name": "stderr",
     "output_type": "stream",
     "text": [
      "epochs:  11%|█         | 3/27 [00:01<00:14,  1.71it/s]"
     ]
    },
    {
     "name": "stdout",
     "output_type": "stream",
     "text": [
      "Animal: fra, Day: 5, Epoch: 2\n"
     ]
    },
    {
     "name": "stderr",
     "output_type": "stream",
     "text": [
      "epochs:  15%|█▍        | 4/27 [00:02<00:12,  1.78it/s]"
     ]
    },
    {
     "name": "stdout",
     "output_type": "stream",
     "text": [
      "Animal: fra, Day: 5, Epoch: 4\n"
     ]
    },
    {
     "name": "stderr",
     "output_type": "stream",
     "text": [
      "epochs:  19%|█▊        | 5/27 [00:02<00:12,  1.75it/s]"
     ]
    },
    {
     "name": "stdout",
     "output_type": "stream",
     "text": [
      "Animal: fra, Day: 5, Epoch: 6\n"
     ]
    },
    {
     "name": "stderr",
     "output_type": "stream",
     "text": [
      "epochs:  22%|██▏       | 6/27 [00:03<00:11,  1.77it/s]"
     ]
    },
    {
     "name": "stdout",
     "output_type": "stream",
     "text": [
      "Animal: fra, Day: 6, Epoch: 2\n"
     ]
    },
    {
     "name": "stderr",
     "output_type": "stream",
     "text": [
      "epochs:  26%|██▌       | 7/27 [00:03<00:11,  1.78it/s]"
     ]
    },
    {
     "name": "stdout",
     "output_type": "stream",
     "text": [
      "Animal: fra, Day: 6, Epoch: 4\n"
     ]
    },
    {
     "name": "stderr",
     "output_type": "stream",
     "text": [
      "epochs:  30%|██▉       | 8/27 [00:04<00:11,  1.70it/s]"
     ]
    },
    {
     "name": "stdout",
     "output_type": "stream",
     "text": [
      "Animal: fra, Day: 6, Epoch: 6\n"
     ]
    },
    {
     "name": "stderr",
     "output_type": "stream",
     "text": [
      "epochs:  33%|███▎      | 9/27 [00:05<00:10,  1.71it/s]"
     ]
    },
    {
     "name": "stdout",
     "output_type": "stream",
     "text": [
      "Animal: fra, Day: 7, Epoch: 2\n"
     ]
    },
    {
     "name": "stderr",
     "output_type": "stream",
     "text": [
      "epochs:  37%|███▋      | 10/27 [00:05<00:10,  1.62it/s]"
     ]
    },
    {
     "name": "stdout",
     "output_type": "stream",
     "text": [
      "Animal: fra, Day: 7, Epoch: 4\n"
     ]
    },
    {
     "name": "stderr",
     "output_type": "stream",
     "text": [
      "epochs:  41%|████      | 11/27 [00:06<00:09,  1.64it/s]"
     ]
    },
    {
     "name": "stdout",
     "output_type": "stream",
     "text": [
      "Animal: fra, Day: 7, Epoch: 6\n"
     ]
    },
    {
     "name": "stderr",
     "output_type": "stream",
     "text": [
      "epochs:  44%|████▍     | 12/27 [00:07<00:09,  1.62it/s]"
     ]
    },
    {
     "name": "stdout",
     "output_type": "stream",
     "text": [
      "Animal: fra, Day: 8, Epoch: 2\n"
     ]
    },
    {
     "name": "stderr",
     "output_type": "stream",
     "text": [
      "epochs:  48%|████▊     | 13/27 [00:07<00:08,  1.66it/s]"
     ]
    },
    {
     "name": "stdout",
     "output_type": "stream",
     "text": [
      "Animal: fra, Day: 8, Epoch: 4\n"
     ]
    },
    {
     "name": "stderr",
     "output_type": "stream",
     "text": [
      "epochs:  52%|█████▏    | 14/27 [00:08<00:07,  1.64it/s]"
     ]
    },
    {
     "name": "stdout",
     "output_type": "stream",
     "text": [
      "Animal: fra, Day: 8, Epoch: 6\n"
     ]
    },
    {
     "name": "stderr",
     "output_type": "stream",
     "text": [
      "epochs:  56%|█████▌    | 15/27 [00:08<00:07,  1.62it/s]"
     ]
    },
    {
     "name": "stdout",
     "output_type": "stream",
     "text": [
      "Animal: fra, Day: 9, Epoch: 2\n"
     ]
    },
    {
     "name": "stderr",
     "output_type": "stream",
     "text": [
      "epochs:  59%|█████▉    | 16/27 [00:09<00:06,  1.66it/s]"
     ]
    },
    {
     "name": "stdout",
     "output_type": "stream",
     "text": [
      "Animal: fra, Day: 9, Epoch: 4\n"
     ]
    },
    {
     "name": "stderr",
     "output_type": "stream",
     "text": [
      "epochs:  63%|██████▎   | 17/27 [00:10<00:06,  1.64it/s]"
     ]
    },
    {
     "name": "stdout",
     "output_type": "stream",
     "text": [
      "Animal: fra, Day: 9, Epoch: 6\n"
     ]
    },
    {
     "name": "stderr",
     "output_type": "stream",
     "text": [
      "epochs:  67%|██████▋   | 18/27 [00:10<00:05,  1.61it/s]"
     ]
    },
    {
     "name": "stdout",
     "output_type": "stream",
     "text": [
      "Animal: fra, Day: 10, Epoch: 2\n"
     ]
    },
    {
     "name": "stderr",
     "output_type": "stream",
     "text": [
      "epochs:  70%|███████   | 19/27 [00:11<00:04,  1.63it/s]"
     ]
    },
    {
     "name": "stdout",
     "output_type": "stream",
     "text": [
      "Animal: fra, Day: 10, Epoch: 4\n"
     ]
    },
    {
     "name": "stderr",
     "output_type": "stream",
     "text": [
      "epochs:  74%|███████▍  | 20/27 [00:11<00:04,  1.64it/s]"
     ]
    },
    {
     "name": "stdout",
     "output_type": "stream",
     "text": [
      "Animal: fra, Day: 10, Epoch: 6\n"
     ]
    },
    {
     "name": "stderr",
     "output_type": "stream",
     "text": [
      "epochs:  78%|███████▊  | 21/27 [00:12<00:03,  1.65it/s]"
     ]
    },
    {
     "name": "stdout",
     "output_type": "stream",
     "text": [
      "Animal: fra, Day: 11, Epoch: 2\n"
     ]
    },
    {
     "name": "stderr",
     "output_type": "stream",
     "text": [
      "epochs:  81%|████████▏ | 22/27 [00:13<00:03,  1.66it/s]"
     ]
    },
    {
     "name": "stdout",
     "output_type": "stream",
     "text": [
      "Animal: fra, Day: 11, Epoch: 4\n"
     ]
    },
    {
     "name": "stderr",
     "output_type": "stream",
     "text": [
      "epochs:  85%|████████▌ | 23/27 [00:13<00:02,  1.62it/s]"
     ]
    },
    {
     "name": "stdout",
     "output_type": "stream",
     "text": [
      "Animal: fra, Day: 11, Epoch: 6\n"
     ]
    },
    {
     "name": "stderr",
     "output_type": "stream",
     "text": [
      "epochs:  89%|████████▉ | 24/27 [00:14<00:01,  1.60it/s]"
     ]
    },
    {
     "name": "stdout",
     "output_type": "stream",
     "text": [
      "Animal: fra, Day: 12, Epoch: 2\n"
     ]
    },
    {
     "name": "stderr",
     "output_type": "stream",
     "text": [
      "epochs:  93%|█████████▎| 25/27 [00:14<00:01,  1.66it/s]"
     ]
    },
    {
     "name": "stdout",
     "output_type": "stream",
     "text": [
      "Animal: fra, Day: 12, Epoch: 4\n"
     ]
    },
    {
     "name": "stderr",
     "output_type": "stream",
     "text": [
      "epochs:  96%|█████████▋| 26/27 [00:15<00:00,  1.65it/s]"
     ]
    },
    {
     "name": "stdout",
     "output_type": "stream",
     "text": [
      "Animal: fra, Day: 12, Epoch: 6\n"
     ]
    },
    {
     "name": "stderr",
     "output_type": "stream",
     "text": [
      "epochs: 100%|██████████| 27/27 [00:16<00:00,  1.67it/s]\n",
      "epochs:   0%|          | 0/24 [00:00<?, ?it/s]"
     ]
    },
    {
     "name": "stdout",
     "output_type": "stream",
     "text": [
      "Animal: gov, Day: 6, Epoch: 2\n"
     ]
    },
    {
     "name": "stderr",
     "output_type": "stream",
     "text": [
      "epochs:   4%|▍         | 1/24 [00:00<00:10,  2.20it/s]"
     ]
    },
    {
     "name": "stdout",
     "output_type": "stream",
     "text": [
      "Animal: gov, Day: 6, Epoch: 4\n"
     ]
    },
    {
     "name": "stderr",
     "output_type": "stream",
     "text": [
      "epochs:   8%|▊         | 2/24 [00:00<00:09,  2.22it/s]"
     ]
    },
    {
     "name": "stdout",
     "output_type": "stream",
     "text": [
      "Animal: gov, Day: 6, Epoch: 6\n"
     ]
    },
    {
     "name": "stderr",
     "output_type": "stream",
     "text": [
      "epochs:  12%|█▎        | 3/24 [00:01<00:09,  2.13it/s]"
     ]
    },
    {
     "name": "stdout",
     "output_type": "stream",
     "text": [
      "Animal: gov, Day: 7, Epoch: 2\n"
     ]
    },
    {
     "name": "stderr",
     "output_type": "stream",
     "text": [
      "epochs:  17%|█▋        | 4/24 [00:01<00:09,  2.05it/s]"
     ]
    },
    {
     "name": "stdout",
     "output_type": "stream",
     "text": [
      "Animal: gov, Day: 7, Epoch: 4\n"
     ]
    },
    {
     "name": "stderr",
     "output_type": "stream",
     "text": [
      "epochs:  21%|██        | 5/24 [00:02<00:09,  1.99it/s]"
     ]
    },
    {
     "name": "stdout",
     "output_type": "stream",
     "text": [
      "Animal: gov, Day: 7, Epoch: 6\n"
     ]
    },
    {
     "name": "stderr",
     "output_type": "stream",
     "text": [
      "epochs:  25%|██▌       | 6/24 [00:02<00:09,  1.96it/s]"
     ]
    },
    {
     "name": "stdout",
     "output_type": "stream",
     "text": [
      "Animal: gov, Day: 8, Epoch: 2\n"
     ]
    },
    {
     "name": "stderr",
     "output_type": "stream",
     "text": [
      "epochs:  29%|██▉       | 7/24 [00:03<00:09,  1.88it/s]"
     ]
    },
    {
     "name": "stdout",
     "output_type": "stream",
     "text": [
      "Animal: gov, Day: 8, Epoch: 4\n"
     ]
    },
    {
     "name": "stderr",
     "output_type": "stream",
     "text": [
      "epochs:  33%|███▎      | 8/24 [00:04<00:08,  1.90it/s]"
     ]
    },
    {
     "name": "stdout",
     "output_type": "stream",
     "text": [
      "Animal: gov, Day: 8, Epoch: 6\n"
     ]
    },
    {
     "name": "stderr",
     "output_type": "stream",
     "text": [
      "epochs:  38%|███▊      | 9/24 [00:04<00:07,  2.01it/s]"
     ]
    },
    {
     "name": "stdout",
     "output_type": "stream",
     "text": [
      "Animal: gov, Day: 9, Epoch: 2\n"
     ]
    },
    {
     "name": "stderr",
     "output_type": "stream",
     "text": [
      "epochs:  42%|████▏     | 10/24 [00:04<00:06,  2.03it/s]"
     ]
    },
    {
     "name": "stdout",
     "output_type": "stream",
     "text": [
      "Animal: gov, Day: 9, Epoch: 3\n"
     ]
    },
    {
     "name": "stderr",
     "output_type": "stream",
     "text": [
      "epochs:  46%|████▌     | 11/24 [00:05<00:06,  2.04it/s]"
     ]
    },
    {
     "name": "stdout",
     "output_type": "stream",
     "text": [
      "Animal: gov, Day: 9, Epoch: 5\n"
     ]
    },
    {
     "name": "stderr",
     "output_type": "stream",
     "text": [
      "epochs:  50%|█████     | 12/24 [00:05<00:05,  2.08it/s]"
     ]
    },
    {
     "name": "stdout",
     "output_type": "stream",
     "text": [
      "Animal: gov, Day: 10, Epoch: 2\n"
     ]
    },
    {
     "name": "stderr",
     "output_type": "stream",
     "text": [
      "epochs:  54%|█████▍    | 13/24 [00:06<00:05,  2.16it/s]"
     ]
    },
    {
     "name": "stdout",
     "output_type": "stream",
     "text": [
      "Animal: gov, Day: 10, Epoch: 4\n"
     ]
    },
    {
     "name": "stderr",
     "output_type": "stream",
     "text": [
      "epochs:  58%|█████▊    | 14/24 [00:06<00:04,  2.12it/s]"
     ]
    },
    {
     "name": "stdout",
     "output_type": "stream",
     "text": [
      "Animal: gov, Day: 10, Epoch: 6\n"
     ]
    },
    {
     "name": "stderr",
     "output_type": "stream",
     "text": [
      "epochs:  62%|██████▎   | 15/24 [00:07<00:04,  2.22it/s]"
     ]
    },
    {
     "name": "stdout",
     "output_type": "stream",
     "text": [
      "Animal: gov, Day: 11, Epoch: 2\n"
     ]
    },
    {
     "name": "stderr",
     "output_type": "stream",
     "text": [
      "epochs:  67%|██████▋   | 16/24 [00:07<00:03,  2.24it/s]"
     ]
    },
    {
     "name": "stdout",
     "output_type": "stream",
     "text": [
      "Animal: gov, Day: 11, Epoch: 4\n"
     ]
    },
    {
     "name": "stderr",
     "output_type": "stream",
     "text": [
      "epochs:  71%|███████   | 17/24 [00:08<00:03,  2.28it/s]"
     ]
    },
    {
     "name": "stdout",
     "output_type": "stream",
     "text": [
      "Animal: gov, Day: 11, Epoch: 6\n"
     ]
    },
    {
     "name": "stderr",
     "output_type": "stream",
     "text": [
      "epochs:  75%|███████▌  | 18/24 [00:08<00:02,  2.32it/s]"
     ]
    },
    {
     "name": "stdout",
     "output_type": "stream",
     "text": [
      "Animal: gov, Day: 12, Epoch: 2\n"
     ]
    },
    {
     "name": "stderr",
     "output_type": "stream",
     "text": [
      "epochs:  79%|███████▉  | 19/24 [00:08<00:02,  2.30it/s]"
     ]
    },
    {
     "name": "stdout",
     "output_type": "stream",
     "text": [
      "Animal: gov, Day: 12, Epoch: 4\n"
     ]
    },
    {
     "name": "stderr",
     "output_type": "stream",
     "text": [
      "epochs:  83%|████████▎ | 20/24 [00:09<00:01,  2.22it/s]"
     ]
    },
    {
     "name": "stdout",
     "output_type": "stream",
     "text": [
      "Animal: gov, Day: 12, Epoch: 6\n"
     ]
    },
    {
     "name": "stderr",
     "output_type": "stream",
     "text": [
      "epochs:  88%|████████▊ | 21/24 [00:09<00:01,  2.23it/s]"
     ]
    },
    {
     "name": "stdout",
     "output_type": "stream",
     "text": [
      "Animal: gov, Day: 13, Epoch: 2\n"
     ]
    },
    {
     "name": "stderr",
     "output_type": "stream",
     "text": [
      "epochs:  92%|█████████▏| 22/24 [00:10<00:00,  2.25it/s]"
     ]
    },
    {
     "name": "stdout",
     "output_type": "stream",
     "text": [
      "Animal: gov, Day: 13, Epoch: 4\n"
     ]
    },
    {
     "name": "stderr",
     "output_type": "stream",
     "text": [
      "epochs:  96%|█████████▌| 23/24 [00:10<00:00,  2.18it/s]"
     ]
    },
    {
     "name": "stdout",
     "output_type": "stream",
     "text": [
      "Animal: gov, Day: 13, Epoch: 6\n"
     ]
    },
    {
     "name": "stderr",
     "output_type": "stream",
     "text": [
      "epochs: 100%|██████████| 24/24 [00:11<00:00,  2.13it/s]\n",
      "epochs:   0%|          | 0/2 [00:00<?, ?it/s]"
     ]
    },
    {
     "name": "stdout",
     "output_type": "stream",
     "text": [
      "Animal: dud, Day: 2, Epoch: 2\n"
     ]
    },
    {
     "name": "stderr",
     "output_type": "stream",
     "text": [
      "epochs:  50%|█████     | 1/2 [00:00<00:00,  1.05it/s]"
     ]
    },
    {
     "name": "stdout",
     "output_type": "stream",
     "text": [
      "Animal: dud, Day: 5, Epoch: 2\n"
     ]
    },
    {
     "name": "stderr",
     "output_type": "stream",
     "text": [
      "epochs: 100%|██████████| 2/2 [00:01<00:00,  1.37it/s]\n",
      "epochs:   0%|          | 0/15 [00:00<?, ?it/s]"
     ]
    },
    {
     "name": "stdout",
     "output_type": "stream",
     "text": [
      "Animal: con, Day: 1, Epoch: 2\n"
     ]
    },
    {
     "name": "stderr",
     "output_type": "stream",
     "text": [
      "epochs:   7%|▋         | 1/15 [00:00<00:05,  2.58it/s]"
     ]
    },
    {
     "name": "stdout",
     "output_type": "stream",
     "text": [
      "Animal: con, Day: 1, Epoch: 4\n"
     ]
    },
    {
     "name": "stderr",
     "output_type": "stream",
     "text": [
      "epochs:  13%|█▎        | 2/15 [00:00<00:05,  2.42it/s]"
     ]
    },
    {
     "name": "stdout",
     "output_type": "stream",
     "text": [
      "Animal: con, Day: 2, Epoch: 2\n"
     ]
    },
    {
     "name": "stderr",
     "output_type": "stream",
     "text": [
      "epochs:  20%|██        | 3/15 [00:01<00:04,  2.44it/s]"
     ]
    },
    {
     "name": "stdout",
     "output_type": "stream",
     "text": [
      "Animal: con, Day: 2, Epoch: 4\n"
     ]
    },
    {
     "name": "stderr",
     "output_type": "stream",
     "text": [
      "epochs:  27%|██▋       | 4/15 [00:01<00:04,  2.27it/s]"
     ]
    },
    {
     "name": "stdout",
     "output_type": "stream",
     "text": [
      "Animal: con, Day: 3, Epoch: 2\n"
     ]
    },
    {
     "name": "stderr",
     "output_type": "stream",
     "text": [
      "epochs:  33%|███▎      | 5/15 [00:02<00:04,  2.37it/s]"
     ]
    },
    {
     "name": "stdout",
     "output_type": "stream",
     "text": [
      "Animal: con, Day: 3, Epoch: 4\n"
     ]
    },
    {
     "name": "stderr",
     "output_type": "stream",
     "text": [
      "epochs:  40%|████      | 6/15 [00:02<00:04,  2.12it/s]"
     ]
    },
    {
     "name": "stdout",
     "output_type": "stream",
     "text": [
      "Animal: con, Day: 4, Epoch: 2\n"
     ]
    },
    {
     "name": "stderr",
     "output_type": "stream",
     "text": [
      "epochs:  47%|████▋     | 7/15 [00:03<00:03,  2.11it/s]"
     ]
    },
    {
     "name": "stdout",
     "output_type": "stream",
     "text": [
      "Animal: con, Day: 4, Epoch: 4\n"
     ]
    },
    {
     "name": "stderr",
     "output_type": "stream",
     "text": [
      "epochs:  53%|█████▎    | 8/15 [00:03<00:03,  1.98it/s]"
     ]
    },
    {
     "name": "stdout",
     "output_type": "stream",
     "text": [
      "Animal: con, Day: 4, Epoch: 6\n"
     ]
    },
    {
     "name": "stderr",
     "output_type": "stream",
     "text": [
      "epochs:  60%|██████    | 9/15 [00:04<00:03,  1.97it/s]"
     ]
    },
    {
     "name": "stdout",
     "output_type": "stream",
     "text": [
      "Animal: con, Day: 5, Epoch: 2\n"
     ]
    },
    {
     "name": "stderr",
     "output_type": "stream",
     "text": [
      "epochs:  67%|██████▋   | 10/15 [00:04<00:02,  1.96it/s]"
     ]
    },
    {
     "name": "stdout",
     "output_type": "stream",
     "text": [
      "Animal: con, Day: 5, Epoch: 4\n"
     ]
    },
    {
     "name": "stderr",
     "output_type": "stream",
     "text": [
      "epochs:  73%|███████▎  | 11/15 [00:05<00:02,  1.91it/s]"
     ]
    },
    {
     "name": "stdout",
     "output_type": "stream",
     "text": [
      "Animal: con, Day: 5, Epoch: 6\n"
     ]
    },
    {
     "name": "stderr",
     "output_type": "stream",
     "text": [
      "epochs:  80%|████████  | 12/15 [00:05<00:01,  1.84it/s]"
     ]
    },
    {
     "name": "stdout",
     "output_type": "stream",
     "text": [
      "Animal: con, Day: 6, Epoch: 2\n"
     ]
    },
    {
     "name": "stderr",
     "output_type": "stream",
     "text": [
      "epochs:  87%|████████▋ | 13/15 [00:06<00:01,  1.94it/s]"
     ]
    },
    {
     "name": "stdout",
     "output_type": "stream",
     "text": [
      "Animal: con, Day: 6, Epoch: 4\n"
     ]
    },
    {
     "name": "stderr",
     "output_type": "stream",
     "text": [
      "epochs:  93%|█████████▎| 14/15 [00:06<00:00,  1.93it/s]"
     ]
    },
    {
     "name": "stdout",
     "output_type": "stream",
     "text": [
      "Animal: con, Day: 6, Epoch: 6\n"
     ]
    },
    {
     "name": "stderr",
     "output_type": "stream",
     "text": [
      "epochs: 100%|██████████| 15/15 [00:07<00:00,  2.05it/s]\n",
      "epochs:   0%|          | 0/15 [00:00<?, ?it/s]"
     ]
    },
    {
     "name": "stdout",
     "output_type": "stream",
     "text": [
      "Animal: dav, Day: 3, Epoch: 2\n"
     ]
    },
    {
     "name": "stderr",
     "output_type": "stream",
     "text": [
      "epochs:   7%|▋         | 1/15 [00:00<00:04,  2.93it/s]"
     ]
    },
    {
     "name": "stdout",
     "output_type": "stream",
     "text": [
      "Animal: dav, Day: 3, Epoch: 4\n"
     ]
    },
    {
     "name": "stderr",
     "output_type": "stream",
     "text": [
      "epochs:  13%|█▎        | 2/15 [00:00<00:04,  2.64it/s]"
     ]
    },
    {
     "name": "stdout",
     "output_type": "stream",
     "text": [
      "Animal: dav, Day: 3, Epoch: 6\n"
     ]
    },
    {
     "name": "stderr",
     "output_type": "stream",
     "text": [
      "epochs:  20%|██        | 3/15 [00:01<00:04,  2.44it/s]"
     ]
    },
    {
     "name": "stdout",
     "output_type": "stream",
     "text": [
      "Animal: dav, Day: 4, Epoch: 2\n"
     ]
    },
    {
     "name": "stderr",
     "output_type": "stream",
     "text": [
      "epochs:  27%|██▋       | 4/15 [00:01<00:04,  2.54it/s]"
     ]
    },
    {
     "name": "stdout",
     "output_type": "stream",
     "text": [
      "Animal: dav, Day: 4, Epoch: 4\n"
     ]
    },
    {
     "name": "stderr",
     "output_type": "stream",
     "text": [
      "epochs:  33%|███▎      | 5/15 [00:01<00:03,  2.57it/s]"
     ]
    },
    {
     "name": "stdout",
     "output_type": "stream",
     "text": [
      "Animal: dav, Day: 4, Epoch: 6\n"
     ]
    },
    {
     "name": "stderr",
     "output_type": "stream",
     "text": [
      "epochs:  40%|████      | 6/15 [00:02<00:03,  2.52it/s]"
     ]
    },
    {
     "name": "stdout",
     "output_type": "stream",
     "text": [
      "Animal: dav, Day: 5, Epoch: 3\n"
     ]
    },
    {
     "name": "stderr",
     "output_type": "stream",
     "text": [
      "epochs:  47%|████▋     | 7/15 [00:02<00:03,  2.35it/s]"
     ]
    },
    {
     "name": "stdout",
     "output_type": "stream",
     "text": [
      "Animal: dav, Day: 6, Epoch: 2\n"
     ]
    },
    {
     "name": "stderr",
     "output_type": "stream",
     "text": [
      "epochs:  53%|█████▎    | 8/15 [00:03<00:02,  2.34it/s]"
     ]
    },
    {
     "name": "stdout",
     "output_type": "stream",
     "text": [
      "Animal: dav, Day: 6, Epoch: 4\n"
     ]
    },
    {
     "name": "stderr",
     "output_type": "stream",
     "text": [
      "epochs:  60%|██████    | 9/15 [00:03<00:02,  2.29it/s]"
     ]
    },
    {
     "name": "stdout",
     "output_type": "stream",
     "text": [
      "Animal: dav, Day: 6, Epoch: 6\n"
     ]
    },
    {
     "name": "stderr",
     "output_type": "stream",
     "text": [
      "epochs:  67%|██████▋   | 10/15 [00:04<00:02,  2.20it/s]"
     ]
    },
    {
     "name": "stdout",
     "output_type": "stream",
     "text": [
      "Animal: dav, Day: 7, Epoch: 2\n"
     ]
    },
    {
     "name": "stderr",
     "output_type": "stream",
     "text": [
      "epochs:  73%|███████▎  | 11/15 [00:04<00:01,  2.61it/s]"
     ]
    },
    {
     "name": "stdout",
     "output_type": "stream",
     "text": [
      "Animal: dav, Day: 7, Epoch: 3\n"
     ]
    },
    {
     "name": "stderr",
     "output_type": "stream",
     "text": [
      "epochs:  80%|████████  | 12/15 [00:04<00:00,  3.01it/s]"
     ]
    },
    {
     "name": "stdout",
     "output_type": "stream",
     "text": [
      "Animal: dav, Day: 7, Epoch: 5\n"
     ]
    },
    {
     "name": "stderr",
     "output_type": "stream",
     "text": [
      "epochs:  87%|████████▋ | 13/15 [00:05<00:00,  2.80it/s]"
     ]
    },
    {
     "name": "stdout",
     "output_type": "stream",
     "text": [
      "Animal: dav, Day: 7, Epoch: 7\n"
     ]
    },
    {
     "name": "stderr",
     "output_type": "stream",
     "text": [
      "epochs:  93%|█████████▎| 14/15 [00:05<00:00,  2.32it/s]"
     ]
    },
    {
     "name": "stdout",
     "output_type": "stream",
     "text": [
      "Animal: dav, Day: 7, Epoch: 9\n"
     ]
    },
    {
     "name": "stderr",
     "output_type": "stream",
     "text": [
      "epochs: 100%|██████████| 15/15 [00:06<00:00,  2.45it/s]\n",
      "epochs:  10%|█         | 1/10 [00:00<00:01,  6.19it/s]"
     ]
    },
    {
     "name": "stdout",
     "output_type": "stream",
     "text": [
      "Animal: Cor, Day: 1, Epoch: 2\n",
      "Animal: Cor, Day: 1, Epoch: 4\n"
     ]
    },
    {
     "name": "stderr",
     "output_type": "stream",
     "text": [
      "epochs:  20%|██        | 2/10 [00:00<00:03,  2.48it/s]"
     ]
    },
    {
     "name": "stdout",
     "output_type": "stream",
     "text": [
      "Animal: Cor, Day: 2, Epoch: 2\n"
     ]
    },
    {
     "name": "stderr",
     "output_type": "stream",
     "text": [
      "epochs:  30%|███       | 3/10 [00:01<00:03,  2.32it/s]"
     ]
    },
    {
     "name": "stdout",
     "output_type": "stream",
     "text": [
      "Animal: Cor, Day: 2, Epoch: 4\n"
     ]
    },
    {
     "name": "stderr",
     "output_type": "stream",
     "text": [
      "epochs:  40%|████      | 4/10 [00:01<00:02,  2.16it/s]"
     ]
    },
    {
     "name": "stdout",
     "output_type": "stream",
     "text": [
      "Animal: Cor, Day: 3, Epoch: 2\n"
     ]
    },
    {
     "name": "stderr",
     "output_type": "stream",
     "text": [
      "epochs:  50%|█████     | 5/10 [00:02<00:02,  2.08it/s]"
     ]
    },
    {
     "name": "stdout",
     "output_type": "stream",
     "text": [
      "Animal: Cor, Day: 3, Epoch: 4\n"
     ]
    },
    {
     "name": "stderr",
     "output_type": "stream",
     "text": [
      "epochs:  60%|██████    | 6/10 [00:02<00:02,  1.98it/s]"
     ]
    },
    {
     "name": "stdout",
     "output_type": "stream",
     "text": [
      "Animal: Cor, Day: 4, Epoch: 2\n"
     ]
    },
    {
     "name": "stderr",
     "output_type": "stream",
     "text": [
      "epochs:  70%|███████   | 7/10 [00:03<00:01,  1.85it/s]"
     ]
    },
    {
     "name": "stdout",
     "output_type": "stream",
     "text": [
      "Animal: Cor, Day: 4, Epoch: 4\n"
     ]
    },
    {
     "name": "stderr",
     "output_type": "stream",
     "text": [
      "epochs:  80%|████████  | 8/10 [00:03<00:01,  1.86it/s]"
     ]
    },
    {
     "name": "stdout",
     "output_type": "stream",
     "text": [
      "Animal: Cor, Day: 7, Epoch: 2\n"
     ]
    },
    {
     "name": "stderr",
     "output_type": "stream",
     "text": [
      "epochs:  90%|█████████ | 9/10 [00:04<00:00,  1.90it/s]"
     ]
    },
    {
     "name": "stdout",
     "output_type": "stream",
     "text": [
      "Animal: Cor, Day: 8, Epoch: 2\n"
     ]
    },
    {
     "name": "stderr",
     "output_type": "stream",
     "text": [
      "epochs: 100%|██████████| 10/10 [00:04<00:00,  2.01it/s]\n",
      "epochs:   0%|          | 0/19 [00:00<?, ?it/s]"
     ]
    },
    {
     "name": "stdout",
     "output_type": "stream",
     "text": [
      "Animal: egy, Day: 5, Epoch: 2\n"
     ]
    },
    {
     "name": "stderr",
     "output_type": "stream",
     "text": [
      "epochs:   5%|▌         | 1/19 [00:00<00:09,  1.92it/s]"
     ]
    },
    {
     "name": "stdout",
     "output_type": "stream",
     "text": [
      "Animal: egy, Day: 5, Epoch: 4\n"
     ]
    },
    {
     "name": "stderr",
     "output_type": "stream",
     "text": [
      "epochs:  11%|█         | 2/19 [00:00<00:08,  2.11it/s]"
     ]
    },
    {
     "name": "stdout",
     "output_type": "stream",
     "text": [
      "Animal: egy, Day: 5, Epoch: 6\n"
     ]
    },
    {
     "name": "stderr",
     "output_type": "stream",
     "text": [
      "epochs:  16%|█▌        | 3/19 [00:01<00:07,  2.04it/s]"
     ]
    },
    {
     "name": "stdout",
     "output_type": "stream",
     "text": [
      "Animal: egy, Day: 6, Epoch: 4\n"
     ]
    },
    {
     "name": "stderr",
     "output_type": "stream",
     "text": [
      "epochs:  21%|██        | 4/19 [00:01<00:07,  2.14it/s]"
     ]
    },
    {
     "name": "stdout",
     "output_type": "stream",
     "text": [
      "Animal: egy, Day: 6, Epoch: 7\n"
     ]
    },
    {
     "name": "stderr",
     "output_type": "stream",
     "text": [
      "epochs:  26%|██▋       | 5/19 [00:02<00:06,  2.18it/s]"
     ]
    },
    {
     "name": "stdout",
     "output_type": "stream",
     "text": [
      "Animal: egy, Day: 7, Epoch: 2\n"
     ]
    },
    {
     "name": "stderr",
     "output_type": "stream",
     "text": [
      "epochs:  32%|███▏      | 6/19 [00:02<00:06,  2.03it/s]"
     ]
    },
    {
     "name": "stdout",
     "output_type": "stream",
     "text": [
      "Animal: egy, Day: 7, Epoch: 4\n"
     ]
    },
    {
     "name": "stderr",
     "output_type": "stream",
     "text": [
      "epochs:  37%|███▋      | 7/19 [00:03<00:05,  2.07it/s]"
     ]
    },
    {
     "name": "stdout",
     "output_type": "stream",
     "text": [
      "Animal: egy, Day: 7, Epoch: 6\n"
     ]
    },
    {
     "name": "stderr",
     "output_type": "stream",
     "text": [
      "epochs:  42%|████▏     | 8/19 [00:03<00:05,  2.14it/s]"
     ]
    },
    {
     "name": "stdout",
     "output_type": "stream",
     "text": [
      "Animal: egy, Day: 8, Epoch: 2\n"
     ]
    },
    {
     "name": "stderr",
     "output_type": "stream",
     "text": [
      "epochs:  47%|████▋     | 9/19 [00:04<00:04,  2.22it/s]"
     ]
    },
    {
     "name": "stdout",
     "output_type": "stream",
     "text": [
      "Animal: egy, Day: 8, Epoch: 4\n"
     ]
    },
    {
     "name": "stderr",
     "output_type": "stream",
     "text": [
      "epochs:  53%|█████▎    | 10/19 [00:04<00:04,  2.19it/s]"
     ]
    },
    {
     "name": "stdout",
     "output_type": "stream",
     "text": [
      "Animal: egy, Day: 8, Epoch: 6\n"
     ]
    },
    {
     "name": "stderr",
     "output_type": "stream",
     "text": [
      "epochs:  58%|█████▊    | 11/19 [00:05<00:03,  2.21it/s]"
     ]
    },
    {
     "name": "stdout",
     "output_type": "stream",
     "text": [
      "Animal: egy, Day: 9, Epoch: 2\n"
     ]
    },
    {
     "name": "stderr",
     "output_type": "stream",
     "text": [
      "epochs:  63%|██████▎   | 12/19 [00:05<00:03,  2.33it/s]"
     ]
    },
    {
     "name": "stdout",
     "output_type": "stream",
     "text": [
      "Animal: egy, Day: 9, Epoch: 4\n"
     ]
    },
    {
     "name": "stderr",
     "output_type": "stream",
     "text": [
      "epochs:  68%|██████▊   | 13/19 [00:05<00:02,  2.43it/s]"
     ]
    },
    {
     "name": "stdout",
     "output_type": "stream",
     "text": [
      "Animal: egy, Day: 10, Epoch: 4\n"
     ]
    },
    {
     "name": "stderr",
     "output_type": "stream",
     "text": [
      "epochs:  79%|███████▉  | 15/19 [00:06<00:01,  3.18it/s]"
     ]
    },
    {
     "name": "stdout",
     "output_type": "stream",
     "text": [
      "Animal: egy, Day: 10, Epoch: 6\n"
     ]
    },
    {
     "name": "stderr",
     "output_type": "stream",
     "text": [
      "epochs:  84%|████████▍ | 16/19 [00:06<00:01,  2.90it/s]"
     ]
    },
    {
     "name": "stdout",
     "output_type": "stream",
     "text": [
      "Animal: egy, Day: 11, Epoch: 2\n"
     ]
    },
    {
     "name": "stderr",
     "output_type": "stream",
     "text": [
      "epochs:  89%|████████▉ | 17/19 [00:07<00:00,  3.00it/s]"
     ]
    },
    {
     "name": "stdout",
     "output_type": "stream",
     "text": [
      "Animal: egy, Day: 11, Epoch: 4\n"
     ]
    },
    {
     "name": "stderr",
     "output_type": "stream",
     "text": [
      "epochs:  95%|█████████▍| 18/19 [00:07<00:00,  2.75it/s]"
     ]
    },
    {
     "name": "stdout",
     "output_type": "stream",
     "text": [
      "Animal: egy, Day: 11, Epoch: 6\n"
     ]
    },
    {
     "name": "stderr",
     "output_type": "stream",
     "text": [
      "epochs: 100%|██████████| 19/19 [00:07<00:00,  2.44it/s]\n",
      "epochs:   0%|          | 0/4 [00:00<?, ?it/s]"
     ]
    },
    {
     "name": "stdout",
     "output_type": "stream",
     "text": [
      "Animal: cha, Day: 4, Epoch: 2\n"
     ]
    },
    {
     "name": "stderr",
     "output_type": "stream",
     "text": [
      "epochs:  25%|██▌       | 1/4 [00:00<00:01,  2.70it/s]"
     ]
    },
    {
     "name": "stdout",
     "output_type": "stream",
     "text": [
      "Animal: cha, Day: 4, Epoch: 4\n"
     ]
    },
    {
     "name": "stderr",
     "output_type": "stream",
     "text": [
      "epochs:  50%|█████     | 2/4 [00:00<00:00,  2.38it/s]"
     ]
    },
    {
     "name": "stdout",
     "output_type": "stream",
     "text": [
      "Animal: cha, Day: 8, Epoch: 2\n"
     ]
    },
    {
     "name": "stderr",
     "output_type": "stream",
     "text": [
      "epochs:  75%|███████▌  | 3/4 [00:01<00:00,  2.08it/s]"
     ]
    },
    {
     "name": "stdout",
     "output_type": "stream",
     "text": [
      "Animal: cha, Day: 8, Epoch: 4\n"
     ]
    },
    {
     "name": "stderr",
     "output_type": "stream",
     "text": [
      "epochs: 100%|██████████| 4/4 [00:01<00:00,  2.16it/s]\n"
     ]
    }
   ],
   "source": [
    "DATA_DIR = \"/home/zilong/Desktop/replay_trajectory_paper/Processed-Data/\"\n",
    "animal_names = ['bon', 'fra', 'gov', 'dud', 'con', 'dav', 'Cor', 'egy', 'cha']\n",
    "\n",
    "all_running_spikes_perday = {}\n",
    "all_ripple_spikes_perday = {}\n",
    "\n",
    "\n",
    "for name in animal_names:\n",
    "    \n",
    "    is_animal = epoch_info.index.isin([name], level='animal')\n",
    "\n",
    "    valid_epochs = (is_w_track &\n",
    "                    (epoch_info.n_neurons > MIN_N_NEURONS) &\n",
    "                    is_animal\n",
    "                    )\n",
    "    \n",
    "    for epoch_key in tqdm(epoch_info[valid_epochs].index, desc='epochs'):\n",
    "        animal, day, epoch = epoch_key\n",
    "        #skip 'egy', 10, 2 since no mental_distance_from_actual_position is saved (double check later)\n",
    "        if (animal, day, epoch) == ('egy', 10, 2):\n",
    "            continue\n",
    "        \n",
    "        if (animal, day, epoch) == ('bon', 4, 2):\n",
    "            continue\n",
    "\n",
    "        print(f'Animal: {animal}, Day: {day}, Epoch: {epoch}')\n",
    "        \n",
    "        running_spikes, ripple_spikes = get_multispike_numbers(epoch_key, DATA_DIR)\n",
    "        \n",
    "        all_running_spikes_perday.setdefault((animal, day), []).append(running_spikes)\n",
    "        all_ripple_spikes_perday.setdefault((animal, day), []).append(ripple_spikes)\n",
    "\n",
    "all_running_spikes_perday_concat = {}   \n",
    "all_ripple_spikes_perday_concat = {}\n",
    "\n",
    "for key in all_running_spikes_perday.keys():\n",
    "    all_running_spikes_perday_concat.setdefault(key[0], []).append(np.mean(all_running_spikes_perday[key]))\n",
    "    all_ripple_spikes_perday_concat.setdefault(key[0], []).append(np.mean(all_ripple_spikes_perday[key]))\n",
    "    \n",
    "    "
   ]
  },
  {
   "cell_type": "markdown",
   "metadata": {},
   "source": [
    "### 2, load theta sweep length and the awake replay diffusion exponent for each animal each day"
   ]
  },
  {
   "cell_type": "code",
   "execution_count": 7,
   "metadata": {},
   "outputs": [],
   "source": [
    "# load real data: ./sweep_replay_correlation_realdata.pkl\n",
    "# !!! need to run SeeepAwakeReplayCorrelation.ipynb first to generate the pickle file if not exist\n",
    "with open(\"../../Processed-Data/sweep_replay_correlation_realdata.pkl\", \"rb\") as f:\n",
    "    (\n",
    "        animal_names,\n",
    "        all_sweep_len_perday_concat,\n",
    "        all_sweep_amp_perday_concat,\n",
    "        all_sweep_ahead_perday_concat,\n",
    "        all_sweep_behind_perday_concat,\n",
    "        all_exponent_perday_concat,\n",
    "        all_ave_activespeed_perday_concat,\n",
    "    ) = pickle.load(f)"
   ]
  },
  {
   "cell_type": "markdown",
   "metadata": {},
   "source": [
    "### 3, plot the correlation between all_running_spikes_perday_concat and theta sweep amp, replay diffusivity"
   ]
  },
  {
   "cell_type": "code",
   "execution_count": 9,
   "metadata": {},
   "outputs": [
    {
     "data": {
      "image/png": "[encoded data removed]",
      "text/plain": [
       "<Figure size 1800x1200 with 4 Axes>"
      ]
     },
     "metadata": {
      "needs_background": "light"
     },
     "output_type": "display_data"
    }
   ],
   "source": [
    "# plot all_exponent_perday_concat_shuffled against all_sweep_len_perday_concat_shuffled\n",
    "colors = plt.cm.get_cmap(\"tab10\", len(animal_names))\n",
    "color_dict = {}\n",
    "for i, name in enumerate(animal_names):\n",
    "    color_dict[name] = colors(i)\n",
    "\n",
    "# plot the exponent against average active speed, and intercept against average active speed\n",
    "plt.figure(figsize=(6, 4), dpi=300)\n",
    "ticksize = 8\n",
    "labelsize = 10\n",
    "\n",
    "\n",
    "ax1 = plt.subplot(1, 2, 1)\n",
    "\n",
    "for name in animal_names:\n",
    "    plt.scatter(\n",
    "        np.array(all_running_spikes_perday_concat[name]),\n",
    "        np.array(all_sweep_amp_perday_concat[name]),\n",
    "        s=15,\n",
    "        alpha=0.6,\n",
    "        color=color_dict[name],\n",
    "        edgecolors=\"none\",\n",
    "    )\n",
    "\n",
    "# add linear fit line to the plot using numpy.polyfit\n",
    "# convert all_sweep_len_perday_concat_shuffled and all_exponent_perday_concat_shuffled to numpy array\n",
    "spikes_np = np.concatenate(list(all_running_spikes_perday_concat.values()))\n",
    "sweep_amp_np = np.concatenate(list(all_sweep_amp_perday_concat.values()))\n",
    "slope, intercept = np.polyfit(spikes_np, sweep_amp_np, 1)\n",
    "# pearson test\n",
    "corr, p = pearsonr(spikes_np, sweep_amp_np)\n",
    "\n",
    "# if p<0.001, then add label as 'r = %.2f, p < 0.001'; else add label as 'r = %.2f, p = %.3f'\n",
    "if p < 0.001:\n",
    "    ax1.plot(\n",
    "        spikes_np,\n",
    "        spikes_np * slope + intercept,\n",
    "        \"k-\",\n",
    "        label=\"r = %.2f, p < 0.001\" % (corr),\n",
    "        linewidth=1,\n",
    "    )\n",
    "else:\n",
    "    ax1.plot(\n",
    "        spikes_np,\n",
    "        spikes_np * slope + intercept,\n",
    "        \"k-\",\n",
    "        label=\"r = %.2f, p = %.3f\" % (corr, p),\n",
    "        linewidth=1,\n",
    "    )\n",
    "\n",
    "# legend\n",
    "ax1.legend(fontsize=ticksize, frameon=False, loc=\"center\", bbox_to_anchor=(0.5, 1.3))\n",
    "\n",
    "# add colorbar with alpha 0.8\n",
    "cmap = ListedColormap(color_dict.values())\n",
    "# Create a ScalarMappable with the colormap and normalize it\n",
    "sm = ScalarMappable(cmap=cmap, norm=plt.Normalize(vmin=0, vmax=len(color_dict)))\n",
    "# Set the colorbar properties\n",
    "cbar = plt.colorbar(sm, ax=ax1, ticks=list(range(len(color_dict))), alpha=0.6)\n",
    "# Set colorbar ticks by adding 1 to each tick\n",
    "ticks = list(range(len(color_dict)))\n",
    "cbar.set_ticks([tick + 0.5 for tick in ticks])\n",
    "# set tick labels by adding 1 to each tick\n",
    "cbar.set_ticklabels(list(range(1, len(color_dict) + 1)))\n",
    "# Set colorbar ticklabels by adding 1 to each tick\n",
    "# Set colorbar label\n",
    "cbar.set_label(\"Animal id\", fontsize=ticksize)\n",
    "# remove the box of the colorbar\n",
    "cbar.outline.set_visible(False)\n",
    "# set cbar tick size, # remove the short ticks in cbar\n",
    "cbar.ax.tick_params(labelsize=ticksize, length=0)\n",
    "\n",
    "ax1.set_xlabel(\"# of spikes (per 100ms) \\n during running\", fontsize=labelsize)\n",
    "ax1.set_ylabel(\"Average sweep \\n length (cm)\", fontsize=labelsize)\n",
    "\n",
    "\n",
    "ax2 = plt.subplot(1, 2, 2)\n",
    "\n",
    "\n",
    "# plot all_exponent_perday_concat_shuffled_crossanimal against all_sweep_len_perday_concat_shuffled_crossanimal\n",
    "for name in animal_names:\n",
    "    plt.scatter(\n",
    "        np.array(all_ripple_spikes_perday_concat[name]),\n",
    "        np.array(all_exponent_perday_concat[name]),\n",
    "        s=15,\n",
    "        alpha=0.6,\n",
    "        color=color_dict[name],\n",
    "        edgecolors=\"none\",\n",
    "    )\n",
    "\n",
    "# add linear fit line to the plot using numpy.polyfit\n",
    "# convert all_sweep_len_perday_concat_shuffled_crossanimal and all_exponent_perday_concat_shuffled_crossanimal to numpy array\n",
    "spikes_np = np.concatenate(list(all_ripple_spikes_perday_concat.values()))\n",
    "exp_np = np.concatenate(\n",
    "    list(all_exponent_perday_concat.values())\n",
    ")\n",
    "slope, intercept = np.polyfit(spikes_np, exp_np, 1)\n",
    "\n",
    "# pearson test\n",
    "corr, p = pearsonr(spikes_np, exp_np)\n",
    "\n",
    "# if p<0.001, then add label as 'r = %.2f, p < 0.001'; else add label as 'r = %.2f, p = %.3f'\n",
    "if p < 0.001:\n",
    "    ax2.plot(\n",
    "        spikes_np,\n",
    "        spikes_np * slope + intercept,\n",
    "        \"k-\",\n",
    "        label=\"r = %.2f, p < 0.001\" % (corr),\n",
    "        linewidth=1,\n",
    "    )\n",
    "else:\n",
    "    ax2.plot(\n",
    "        spikes_np,\n",
    "        spikes_np * slope + intercept,\n",
    "        \"k-\",\n",
    "        label=\"r = %.2f, p = %.3f\" % (corr, p),\n",
    "        linewidth=1,\n",
    "    )\n",
    "\n",
    "# legend\n",
    "ax2.legend(fontsize=ticksize, frameon=False, loc=\"center\", bbox_to_anchor=(0.5, 1.3))\n",
    "\n",
    "# add colorbar with alpha 0.8\n",
    "cmap = ListedColormap(color_dict.values())\n",
    "# Create a ScalarMappable with the colormap and normalize it\n",
    "sm = ScalarMappable(cmap=cmap, norm=plt.Normalize(vmin=0, vmax=len(color_dict)))\n",
    "# Set the colorbar properties\n",
    "cbar = plt.colorbar(sm, ax=ax2, ticks=list(range(len(color_dict))), alpha=0.6)\n",
    "# Set colorbar ticks by adding 1 to each tick\n",
    "ticks = list(range(len(color_dict)))\n",
    "cbar.set_ticks([tick + 0.5 for tick in ticks])\n",
    "# set tick labels by adding 1 to each tick\n",
    "cbar.set_ticklabels(list(range(1, len(color_dict) + 1)))\n",
    "# Set colorbar ticklabels by adding 1 to each tick\n",
    "# Set colorbar label\n",
    "cbar.set_label(\"Animal id\", fontsize=ticksize)\n",
    "# remove the box of the colorbar\n",
    "cbar.outline.set_visible(False)\n",
    "# set cbar tick size, # remove the short ticks in cbar\n",
    "cbar.ax.tick_params(labelsize=ticksize, length=0)\n",
    "\n",
    "ax2.set_xlabel(\"# of spikes (per 100ms) \\n in ripple events \", fontsize=labelsize)\n",
    "ax2.set_ylabel(\"Diffusion exp.\", fontsize=labelsize)\n",
    "ax2.set_ylim([0.5, 1.1])\n",
    "\n",
    "for ax in [ax1, ax2]:\n",
    "    ax.tick_params(labelsize=ticksize)\n",
    "    ax.spines[\"right\"].set_visible(False)\n",
    "    ax.spines[\"top\"].set_visible(False)\n",
    "    # axis line width 1.0\n",
    "    ax.spines[\"bottom\"].set_linewidth(1.0)\n",
    "    ax.spines[\"left\"].set_linewidth(1.0)\n",
    "    # remove the tick bars on the left and bottom\n",
    "    ax.tick_params(axis=\"both\", which=\"both\", length=0)\n",
    "\n",
    "plt.tight_layout()\n",
    "\n",
    "\n",
    "plt.savefig(\n",
    "    \"../../Processed-Data/Paper_figures/Fig_SI_correlation_with_spike_release.pdf\",\n",
    "    bbox_inches=\"tight\",\n",
    "    dpi=300,\n",
    ")"
   ]
  },
  {
   "cell_type": "code",
   "execution_count": null,
   "metadata": {},
   "outputs": [],
   "source": []
  },
  {
   "cell_type": "code",
   "execution_count": null,
   "metadata": {},
   "outputs": [],
   "source": []
  }
 ],
 "metadata": {
  "kernelspec": {
   "display_name": "replay_trajectory_paper",
   "language": "python",
   "name": "python3"
  },
  "language_info": {
   "codemirror_mode": {
    "name": "ipython",
    "version": 3
   },
   "file_extension": ".py",
   "mimetype": "text/x-python",
   "name": "python",
   "nbconvert_exporter": "python",
   "pygments_lexer": "ipython3",
   "version": "3.6.13"
  }
 },
 "nbformat": 4,
 "nbformat_minor": 2
}
