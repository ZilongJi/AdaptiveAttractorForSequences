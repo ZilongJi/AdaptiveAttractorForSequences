{
 "cells": [
  {
   "cell_type": "code",
   "execution_count": 7,
   "metadata": {},
   "outputs": [],
   "source": [
    "from loren_frank_data_processing import (make_epochs_dataframe,\n",
    "                                         make_neuron_dataframe,\n",
    "                                         make_tetrode_dataframe)\n",
    "from src.parameters import (ANIMALS, MIN_N_NEURONS, _BRAIN_AREAS)\n",
    "\n",
    "from tqdm.auto import tqdm\n",
    "import numpy as np  "
   ]
  },
  {
   "cell_type": "code",
   "execution_count": 2,
   "metadata": {},
   "outputs": [],
   "source": [
    "epoch_info = make_epochs_dataframe(ANIMALS)\n",
    "neuron_info = make_neuron_dataframe(ANIMALS)\n",
    "\n",
    "neuron_info = neuron_info.loc[\n",
    "(neuron_info.type == 'principal') &\n",
    "(neuron_info.numspikes > 100) &\n",
    "neuron_info.area.isin(_BRAIN_AREAS)]\n",
    "\n",
    "n_neurons = (neuron_info\n",
    "                .groupby(['animal', 'day', 'epoch'])\n",
    "                .neuron_id\n",
    "                .agg(len)\n",
    "                .rename('n_neurons')\n",
    "                .to_frame())\n",
    "\n",
    "epoch_info = epoch_info.join(n_neurons)\n",
    "is_w_track = (epoch_info.environment\n",
    "                .isin(['TrackA', 'TrackB', 'WTrackA', 'WTrackB']))\n",
    "is_animal = epoch_info.index.isin(['bon', 'fra', 'gov', 'dud', 'con', 'Cor', 'dav', 'egy', 'cha'], level='animal')\n",
    "\n",
    "valid_epochs = (is_w_track &\n",
    "                (epoch_info.n_neurons > MIN_N_NEURONS) &\n",
    "                is_animal\n",
    "                )"
   ]
  },
  {
   "cell_type": "code",
   "execution_count": null,
   "metadata": {},
   "outputs": [],
   "source": [
    "num_tetrodes_per_epoch = []\n",
    "\n",
    "for epoch_key in tqdm(epoch_info[valid_epochs].index, desc='epochs'):\n",
    "    animal, day, epoch = epoch_key\n",
    "    \n",
    "    #print(f'Getting tetrode info for Animal: {animal}, Day: {day}, Epoch: {epoch}')\n",
    "    \n",
    "    tetrode_info = make_tetrode_dataframe(ANIMALS, epoch_key=epoch_key)\n",
    "    is_brain_areas = (\n",
    "        tetrode_info.area.astype(str).str.upper().isin(_BRAIN_AREAS))\n",
    "    tetrode_info = tetrode_info.loc[is_brain_areas]\n",
    "\n",
    "    #save number of tetrodes into a list\n",
    "    num_tetrodes_per_epoch.append(len(tetrode_info))"
   ]
  },
  {
   "cell_type": "code",
   "execution_count": 48,
   "metadata": {},
   "outputs": [
    {
     "name": "stdout",
     "output_type": "stream",
     "text": [
      "Number of valid epochs: 140\n",
      "Mean number of valid epochs per day: 2.641509433962264\n",
      "Std of number of valid epochs per day: 0.7292886071731203\n",
      "Mean number of recording days: 5.888888888888889\n",
      "Std of number of recording days: 2.3778816176702997\n"
     ]
    }
   ],
   "source": [
    "#get number of valid epochs in total\n",
    "num_valid_epochs = len(epoch_info[valid_epochs])\n",
    "print(f'Number of valid epochs: {num_valid_epochs}')\n",
    "\n",
    "#get the number of valid epochs per day\n",
    "num_valid_epochs_per_day = epoch_info[valid_epochs].groupby(['animal', 'day']).size()\n",
    "#get the mean and std of valid epochs per day\n",
    "mean_valid_epochs_per_day = np.mean(num_valid_epochs_per_day)\n",
    "std_valid_epochs_per_day = np.std(num_valid_epochs_per_day)\n",
    "print(f'Mean number of valid epochs per day: {mean_valid_epochs_per_day}')\n",
    "print(f'Std of number of valid epochs per day: {std_valid_epochs_per_day}')\n",
    "\n",
    "#for each animal, count the number of recording days from num_valid_epochs_per_day\n",
    "num_recording_days = num_valid_epochs_per_day.groupby('animal').size()\n",
    "#get the mean and std of recording days\n",
    "mean_recording_days = np.mean(num_recording_days)\n",
    "std_recording_days = np.std(num_recording_days)\n",
    "print(f'Mean number of recording days: {mean_recording_days}')\n",
    "print(f'Std of number of recording days: {std_recording_days}')"
   ]
  },
  {
   "cell_type": "code",
   "execution_count": null,
   "metadata": {},
   "outputs": [],
   "source": []
  }
 ],
 "metadata": {
  "kernelspec": {
   "display_name": "replay_trajectory_paper",
   "language": "python",
   "name": "python3"
  },
  "language_info": {
   "codemirror_mode": {
    "name": "ipython",
    "version": 3
   },
   "file_extension": ".py",
   "mimetype": "text/x-python",
   "name": "python",
   "nbconvert_exporter": "python",
   "pygments_lexer": "ipython3",
   "version": "3.6.13"
  },
  "orig_nbformat": 4
 },
 "nbformat": 4,
 "nbformat_minor": 2
}
