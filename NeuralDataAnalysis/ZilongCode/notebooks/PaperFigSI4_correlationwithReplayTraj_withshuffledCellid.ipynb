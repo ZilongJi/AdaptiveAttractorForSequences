{
 "cells": [
  {
   "cell_type": "code",
   "execution_count": 2,
   "metadata": {},
   "outputs": [],
   "source": [
    "import os\n",
    "import numpy as np\n",
    "import pickle\n",
    "import matplotlib.pyplot as plt\n",
    "from ZilongCode.utils import get_diffusion_exponent"
   ]
  },
  {
   "cell_type": "code",
   "execution_count": 2,
   "metadata": {},
   "outputs": [],
   "source": [
    "shuffle_data_dir = '/media/zilong/4TB Storage HDD/ReplayTrajectoryAnalysis/ReplayTrajectories_shuffled/ReplayTrajectories'\n",
    "#load pkl file from shuffle_data_dir with name 'Cor_01_04_traj.pkl'\n",
    "with open(shuffle_data_dir + '/Cor_01_04_traj.pkl', 'rb') as f:\n",
    "    shuffle_traj = pickle.load(f)\n",
    "    \n",
    "real_data_dir = '/home/zilong/Desktop/replay_trajectory_paper/Processed-Data/ReplayTrajectories'\n",
    "#load pkl file from real_data_dir with name 'Cor_01_04_traj.pkl'\n",
    "with open(real_data_dir + '/Cor_01_04_traj.pkl', 'rb') as f:\n",
    "    real_traj = pickle.load(f)"
   ]
  },
  {
   "cell_type": "code",
   "execution_count": null,
   "metadata": {},
   "outputs": [],
   "source": [
    "#plot the first 10 trajectories in shuffle_traj and real_traj with two different colors\n",
    "import matplotlib.pyplot as plt\n",
    "import numpy as np\n",
    "\n",
    "shuffle_keys = list(shuffle_traj.keys())\n",
    "real_keys = list(real_traj.keys())\n",
    "for i in range(30,60):\n",
    "    plt.figure(figsize=(3,3))\n",
    "    plt.plot(shuffle_traj[shuffle_keys[i]], color='blue', label='shuffle')\n",
    "    plt.plot(real_traj[real_keys[i]], color='red', label='real')\n",
    "    plt.legend()\n"
   ]
  },
  {
   "cell_type": "markdown",
   "metadata": {},
   "source": [
    "### Get replay diffusivity"
   ]
  },
  {
   "cell_type": "code",
   "execution_count": 3,
   "metadata": {},
   "outputs": [],
   "source": [
    "# geneerate shuffled replay trajectories by shuffle the value under the key 'replay_trajectory'\n",
    "def position_shuffling(Replay_traj):\n",
    "    \"\"\"\n",
    "    shuffle the replay trajectory by shuffling the decoded position under each key of Replay_traj\n",
    "    Input:\n",
    "        Replay_traj: the replay trajectory\n",
    "    Output:\n",
    "        Replay_traj_shuffled: the shuffled replay trajectory\n",
    "    \"\"\"\n",
    "    Replay_traj_shuffled = Replay_traj.copy()\n",
    "    for key in Replay_traj_shuffled.keys():\n",
    "        Replay_traj_shuffled[key] = np.random.permutation(Replay_traj_shuffled[key])\n",
    "    return Replay_traj_shuffled"
   ]
  },
  {
   "cell_type": "code",
   "execution_count": 6,
   "metadata": {},
   "outputs": [
    {
     "name": "stdout",
     "output_type": "stream",
     "text": [
      "load file:  bon_03_02_traj.pkl  and calculate the diffusion exponent\n",
      "load file:  bon_03_04_traj.pkl  and calculate the diffusion exponent\n",
      "load file:  bon_03_06_traj.pkl  and calculate the diffusion exponent\n",
      "load file:  Cor_02_04_traj.pkl  and calculate the diffusion exponent\n",
      "load file:  Cor_03_02_traj.pkl  and calculate the diffusion exponent\n",
      "load file:  Cor_03_04_traj.pkl  and calculate the diffusion exponent\n",
      "load file:  Cor_01_02_traj.pkl  and calculate the diffusion exponent\n",
      "load file:  Cor_01_04_traj.pkl  and calculate the diffusion exponent\n",
      "load file:  Cor_02_02_traj.pkl  and calculate the diffusion exponent\n",
      "load file:  bon_04_02_traj.pkl  and calculate the diffusion exponent\n",
      "load file:  bon_04_04_traj.pkl  and calculate the diffusion exponent\n",
      "load file:  bon_04_06_traj.pkl  and calculate the diffusion exponent\n",
      "load file:  bon_05_04_traj.pkl  and calculate the diffusion exponent\n",
      "load file:  bon_05_06_traj.pkl  and calculate the diffusion exponent\n",
      "load file:  bon_06_02_traj.pkl  and calculate the diffusion exponent\n",
      "load file:  bon_06_04_traj.pkl  and calculate the diffusion exponent\n",
      "load file:  bon_06_06_traj.pkl  and calculate the diffusion exponent\n",
      "load file:  bon_07_02_traj.pkl  and calculate the diffusion exponent\n",
      "load file:  bon_05_02_traj.pkl  and calculate the diffusion exponent\n",
      "load file:  bon_07_04_traj.pkl  and calculate the diffusion exponent\n",
      "load file:  bon_09_06_traj.pkl  and calculate the diffusion exponent\n",
      "load file:  cha_08_04_traj.pkl  and calculate the diffusion exponent\n",
      "load file:  con_04_02_traj.pkl  and calculate the diffusion exponent\n",
      "load file:  bon_07_06_traj.pkl  and calculate the diffusion exponent\n",
      "load file:  bon_08_02_traj.pkl  and calculate the diffusion exponent\n",
      "load file:  bon_08_04_traj.pkl  and calculate the diffusion exponent\n",
      "load file:  bon_08_06_traj.pkl  and calculate the diffusion exponent\n",
      "load file:  bon_09_02_traj.pkl  and calculate the diffusion exponent\n",
      "load file:  bon_09_04_traj.pkl  and calculate the diffusion exponent\n",
      "load file:  bon_10_02_traj.pkl  and calculate the diffusion exponent\n",
      "load file:  bon_10_04_traj.pkl  and calculate the diffusion exponent\n",
      "load file:  bon_10_06_traj.pkl  and calculate the diffusion exponent\n",
      "load file:  cha_04_02_traj.pkl  and calculate the diffusion exponent\n",
      "load file:  cha_04_04_traj.pkl  and calculate the diffusion exponent\n",
      "load file:  cha_08_02_traj.pkl  and calculate the diffusion exponent\n",
      "load file:  con_01_02_traj.pkl  and calculate the diffusion exponent\n",
      "load file:  con_01_04_traj.pkl  and calculate the diffusion exponent\n",
      "load file:  con_02_02_traj.pkl  and calculate the diffusion exponent\n",
      "load file:  con_02_04_traj.pkl  and calculate the diffusion exponent\n",
      "load file:  con_03_02_traj.pkl  and calculate the diffusion exponent\n",
      "load file:  con_03_04_traj.pkl  and calculate the diffusion exponent\n",
      "load file:  con_04_04_traj.pkl  and calculate the diffusion exponent\n",
      "load file:  con_04_06_traj.pkl  and calculate the diffusion exponent\n",
      "load file:  con_05_02_traj.pkl  and calculate the diffusion exponent\n",
      "load file:  con_05_04_traj.pkl  and calculate the diffusion exponent\n",
      "load file:  con_05_06_traj.pkl  and calculate the diffusion exponent\n",
      "load file:  con_06_02_traj.pkl  and calculate the diffusion exponent\n",
      "load file:  con_06_04_traj.pkl  and calculate the diffusion exponent\n",
      "load file:  con_06_06_traj.pkl  and calculate the diffusion exponent\n",
      "load file:  Cor_04_04_traj.pkl  and calculate the diffusion exponent\n",
      "load file:  Cor_07_02_traj.pkl  and calculate the diffusion exponent\n",
      "load file:  Cor_08_02_traj.pkl  and calculate the diffusion exponent\n",
      "load file:  dav_03_02_traj.pkl  and calculate the diffusion exponent\n",
      "load file:  dav_03_04_traj.pkl  and calculate the diffusion exponent\n",
      "load file:  dav_03_06_traj.pkl  and calculate the diffusion exponent\n",
      "load file:  dav_04_04_traj.pkl  and calculate the diffusion exponent\n",
      "load file:  dav_04_06_traj.pkl  and calculate the diffusion exponent\n",
      "load file:  dav_05_03_traj.pkl  and calculate the diffusion exponent\n",
      "load file:  dav_06_02_traj.pkl  and calculate the diffusion exponent\n",
      "load file:  dav_06_04_traj.pkl  and calculate the diffusion exponent\n",
      "load file:  dav_06_06_traj.pkl  and calculate the diffusion exponent\n",
      "load file:  dav_07_03_traj.pkl  and calculate the diffusion exponent\n",
      "load file:  dav_07_05_traj.pkl  and calculate the diffusion exponent\n",
      "load file:  dav_07_07_traj.pkl  and calculate the diffusion exponent\n",
      "load file:  dav_07_09_traj.pkl  and calculate the diffusion exponent\n",
      "load file:  dud_02_02_traj.pkl  and calculate the diffusion exponent\n",
      "load file:  dud_05_02_traj.pkl  and calculate the diffusion exponent\n",
      "load file:  egy_05_04_traj.pkl  and calculate the diffusion exponent\n",
      "load file:  egy_05_06_traj.pkl  and calculate the diffusion exponent\n",
      "load file:  egy_06_04_traj.pkl  and calculate the diffusion exponent\n",
      "load file:  egy_06_07_traj.pkl  and calculate the diffusion exponent\n",
      "load file:  egy_07_02_traj.pkl  and calculate the diffusion exponent\n",
      "load file:  egy_07_04_traj.pkl  and calculate the diffusion exponent\n",
      "load file:  egy_08_02_traj.pkl  and calculate the diffusion exponent\n",
      "load file:  egy_08_04_traj.pkl  and calculate the diffusion exponent\n",
      "load file:  egy_08_06_traj.pkl  and calculate the diffusion exponent\n",
      "load file:  egy_09_02_traj.pkl  and calculate the diffusion exponent\n",
      "load file:  egy_09_04_traj.pkl  and calculate the diffusion exponent\n",
      "load file:  egy_10_02_traj.pkl  and calculate the diffusion exponent\n",
      "load file:  egy_10_06_traj.pkl  and calculate the diffusion exponent\n",
      "load file:  egy_11_02_traj.pkl  and calculate the diffusion exponent\n",
      "load file:  egy_11_04_traj.pkl  and calculate the diffusion exponent\n",
      "load file:  egy_11_06_traj.pkl  and calculate the diffusion exponent\n",
      "load file:  fra_04_02_traj.pkl  and calculate the diffusion exponent\n",
      "load file:  fra_04_04_traj.pkl  and calculate the diffusion exponent\n",
      "load file:  Cor_04_02_traj.pkl  and calculate the diffusion exponent\n",
      "load file:  dav_04_02_traj.pkl  and calculate the diffusion exponent\n",
      "load file:  dav_07_02_traj.pkl  and calculate the diffusion exponent\n",
      "load file:  egy_05_02_traj.pkl  and calculate the diffusion exponent\n",
      "load file:  egy_07_06_traj.pkl  and calculate the diffusion exponent\n",
      "load file:  egy_10_04_traj.pkl  and calculate the diffusion exponent\n",
      "load file:  fra_04_06_traj.pkl  and calculate the diffusion exponent\n",
      "load file:  fra_05_02_traj.pkl  and calculate the diffusion exponent\n",
      "load file:  fra_05_04_traj.pkl  and calculate the diffusion exponent\n",
      "load file:  fra_05_06_traj.pkl  and calculate the diffusion exponent\n"
     ]
    }
   ],
   "source": [
    "# load all replay trajectory from computer\n",
    "replay_folder = (\n",
    "    \"/media/zilong/4TB Storage HDD/ReplayTrajectoryAnalysis/ReplayTrajectories_shuffled/ReplayTrajectories\"\n",
    ")\n",
    "\n",
    "# get all file with _traj.pkl\n",
    "replay_files = [f for f in os.listdir(replay_folder) if f.endswith(\"_traj.pkl\")]\n",
    "\n",
    "# for each file, load the replay trajectory\n",
    "all_exponent = []\n",
    "all_exponent_shuffled = []\n",
    "for replay_file in replay_files:\n",
    "    # print(\"loading file: and calculate the diffusion exponent\")\n",
    "    print(\"load file: \", replay_file, \" and calculate the diffusion exponent\")\n",
    "    with open(os.path.join(replay_folder, replay_file), \"rb\") as f:\n",
    "        Replay_traj = pickle.load(f)\n",
    "        exponent = get_diffusion_exponent(Replay_traj)\n",
    "        all_exponent.append(exponent)\n",
    "\n",
    "        # shuflle the replay trajectory\n",
    "        Replay_traj_shuffled = position_shuffling(Replay_traj)\n",
    "        exponent_shuffled = get_diffusion_exponent(Replay_traj_shuffled)\n",
    "        all_exponent_shuffled.append(exponent_shuffled)"
   ]
  },
  {
   "cell_type": "code",
   "execution_count": 14,
   "metadata": {},
   "outputs": [
    {
     "data": {
      "text/plain": [
       "0.7254070769033828"
      ]
     },
     "execution_count": 14,
     "metadata": {},
     "output_type": "execute_result"
    }
   ],
   "source": [
    "np.mean(all_exponent)"
   ]
  },
  {
   "cell_type": "code",
   "execution_count": 13,
   "metadata": {},
   "outputs": [
    {
     "data": {
      "text/plain": [
       "(array([ 1.,  0.,  0.,  0.,  0.,  0.,  0.,  0.,  0.,  0.,  0.,  0.,  0.,\n",
       "         0.,  0.,  0.,  0.,  0.,  0.,  0.,  0.,  0.,  0.,  0.,  0.,  0.,\n",
       "         2., 12., 77.,  3.]),\n",
       " array([-5.00854998, -4.83106377, -4.65357757, -4.47609136, -4.29860515,\n",
       "        -4.12111894, -3.94363273, -3.76614652, -3.58866031, -3.4111741 ,\n",
       "        -3.23368789, -3.05620169, -2.87871548, -2.70122927, -2.52374306,\n",
       "        -2.34625685, -2.16877064, -1.99128443, -1.81379822, -1.63631202,\n",
       "        -1.45882581, -1.2813396 , -1.10385339, -0.92636718, -0.74888097,\n",
       "        -0.57139476, -0.39390855, -0.21642234, -0.03893614,  0.13855007,\n",
       "         0.31603628]),\n",
       " <BarContainer object of 30 artists>)"
      ]
     },
     "execution_count": 13,
     "metadata": {},
     "output_type": "execute_result"
    },
    {
     "data": {
      "image/png": "[encoded data removed]",
      "text/plain": [
       "<Figure size 216x216 with 1 Axes>"
      ]
     },
     "metadata": {
      "needs_background": "light"
     },
     "output_type": "display_data"
    }
   ],
   "source": [
    "#plot the distrubution of all_exponent\n",
    "plt.figure(figsize=(3,3))\n",
    "plt.hist(all_exponent, bins=30, alpha=0.5, label='real')\n",
    "plt.hist(all_exponent_shuffled, bins=30, alpha=0.5, label='shuffle')"
   ]
  },
  {
   "cell_type": "code",
   "execution_count": 6,
   "metadata": {},
   "outputs": [
    {
     "name": "stdout",
     "output_type": "stream",
     "text": [
      "load file:  Cor_01_02_traj_raw_and_shuffle.pkl  and calculate the diffusion exponent\n"
     ]
    }
   ],
   "source": [
    "# load all replay trajectory from computer\n",
    "replay_folder = (\n",
    "    \"/media/zilong/4TB Storage HDD/ReplayTrajectoryAnalysis/ReplayTrajectories_shuffled/ReplayTrajectories\"\n",
    ")\n",
    "\n",
    "# get all file with _traj.pkl\n",
    "replay_files = [f for f in os.listdir(replay_folder) if f.endswith(\"_traj_raw_and_shuffle.pkl\")]\n",
    "\n",
    "# for each file, load the replay trajectory\n",
    "all_exponent = []\n",
    "all_exponent_shuffled = []\n",
    "for replay_file in replay_files:\n",
    "    # print(\"loading file: and calculate the diffusion exponent\")\n",
    "    print(\"load file: \", replay_file, \" and calculate the diffusion exponent\")\n",
    "    with open(os.path.join(replay_folder, replay_file), \"rb\") as f:\n",
    "        all_replay_traj = pickle.load(f)\n",
    "        #load real replay trajectory        \n",
    "        real_replay_traj = all_replay_traj['real']\n",
    "        exponent = get_diffusion_exponent(real_replay_traj)\n",
    "        all_exponent.append(exponent)\n",
    "\n",
    "        #load shuffled replay trajectory which is all other keys except 'real'\n",
    "        keys = list(all_replay_traj.keys())\n",
    "        keys.remove('real')\n",
    "        shuffled_replay_traj = {}\n",
    "        for key in keys:\n",
    "            shuffled_replay_traj = all_replay_traj[key]\n",
    "            exponent_shuffled = get_diffusion_exponent(shuffled_replay_traj)\n",
    "            all_exponent_shuffled.append(exponent_shuffled)\n",
    "\n",
    "\n"
   ]
  },
  {
   "cell_type": "code",
   "execution_count": 7,
   "metadata": {},
   "outputs": [
    {
     "data": {
      "text/plain": [
       "[0.6545150024809026,\n",
       " 0.44269828642578324,\n",
       " 0.3050775268103195,\n",
       " 0.5126050880249706,\n",
       " 0.37877979603131695,\n",
       " 0.6711031812414826,\n",
       " 0.4912658958790773,\n",
       " 0.5251082510990064,\n",
       " 0.5866389670639117,\n",
       " 0.6604131840050553,\n",
       " 0.6125998807405144,\n",
       " 0.47166239335637383,\n",
       " 0.5737361848049558,\n",
       " 0.6117749704198339,\n",
       " 0.6045959076000174,\n",
       " 0.5615432076049627,\n",
       " 0.39689682646891994,\n",
       " 0.3545819995056014,\n",
       " 0.6384122785196262,\n",
       " 0.3205929362795117,\n",
       " 0.45605859993589876,\n",
       " 0.5600469408572238,\n",
       " 0.32420709104295853,\n",
       " 0.438785188663197,\n",
       " 0.40936579123399774,\n",
       " 0.5212189455901904,\n",
       " 0.4156996420595152,\n",
       " 0.5122188357941947,\n",
       " 0.4736325769552718,\n",
       " 0.45578017683804517,\n",
       " 0.44652063926860436,\n",
       " 0.27180039954026575,\n",
       " 0.4258748881325849,\n",
       " 0.26973914336642957,\n",
       " 0.46424110562797616,\n",
       " 0.4869314207910602,\n",
       " 0.5006584371924258,\n",
       " 0.5543599854242294,\n",
       " 0.5348870853451033,\n",
       " 0.3685698979604297,\n",
       " 0.33907352766976023,\n",
       " 0.5739449901888367,\n",
       " 0.36385073883584623,\n",
       " 0.4149774680857094,\n",
       " 0.3180251416676553,\n",
       " 0.45178377134454956,\n",
       " 0.3692386113730859,\n",
       " 0.3884954606150685,\n",
       " 0.44645255630711417,\n",
       " 0.4031569375623159]"
      ]
     },
     "execution_count": 7,
     "metadata": {},
     "output_type": "execute_result"
    }
   ],
   "source": [
    "all_exponent_shuffled"
   ]
  },
  {
   "cell_type": "code",
   "execution_count": 8,
   "metadata": {},
   "outputs": [
    {
     "data": {
      "text/plain": [
       "[0.5988986143028342]"
      ]
     },
     "execution_count": 8,
     "metadata": {},
     "output_type": "execute_result"
    }
   ],
   "source": [
    "all_exponent"
   ]
  },
  {
   "cell_type": "code",
   "execution_count": null,
   "metadata": {},
   "outputs": [],
   "source": []
  }
 ],
 "metadata": {
  "kernelspec": {
   "display_name": "replay_trajectory_paper",
   "language": "python",
   "name": "python3"
  },
  "language_info": {
   "codemirror_mode": {
    "name": "ipython",
    "version": 3
   },
   "file_extension": ".py",
   "mimetype": "text/x-python",
   "name": "python",
   "nbconvert_exporter": "python",
   "pygments_lexer": "ipython3",
   "version": "3.6.13"
  }
 },
 "nbformat": 4,
 "nbformat_minor": 2
}
