{
 "cells": [
  {
   "cell_type": "code",
   "execution_count": 10,
   "metadata": {},
   "outputs": [],
   "source": [
    "from loren_frank_data_processing import (make_epochs_dataframe,\n",
    "                                         make_neuron_dataframe)\n",
    "from src.parameters import (ANIMALS, MIN_N_NEURONS, _BRAIN_AREAS)\n",
    "\n",
    "from tqdm.auto import tqdm\n",
    "import os\n",
    "import pickle\n",
    "import pandas as pd\n",
    "import numpy as np"
   ]
  },
  {
   "cell_type": "code",
   "execution_count": 2,
   "metadata": {},
   "outputs": [],
   "source": [
    "epoch_info = make_epochs_dataframe(ANIMALS)\n",
    "neuron_info = make_neuron_dataframe(ANIMALS)\n",
    "\n",
    "neuron_info = neuron_info.loc[\n",
    "(neuron_info.type == 'principal') &\n",
    "(neuron_info.numspikes > 100) &\n",
    "neuron_info.area.isin(_BRAIN_AREAS)]\n",
    "\n",
    "n_neurons = (neuron_info\n",
    "                .groupby(['animal', 'day', 'epoch'])\n",
    "                .neuron_id\n",
    "                .agg(len)\n",
    "                .rename('n_neurons')\n",
    "                .to_frame())\n",
    "\n",
    "epoch_info = epoch_info.join(n_neurons)\n",
    "is_w_track = (epoch_info.environment\n",
    "                .isin(['TrackA', 'TrackB', 'WTrackA', 'WTrackB']))\n",
    "is_animal = epoch_info.index.isin(['bon', 'fra', 'gov', 'dud', 'con', 'Cor', 'dav', 'egy', 'cha'], level='animal')\n",
    "\n",
    "valid_epochs = (is_w_track &\n",
    "                (epoch_info.n_neurons > MIN_N_NEURONS) &\n",
    "                is_animal\n",
    "                )"
   ]
  },
  {
   "cell_type": "code",
   "execution_count": 5,
   "metadata": {},
   "outputs": [
    {
     "data": {
      "application/vnd.jupyter.widget-view+json": {
       "model_id": "bffe855bfd4a40eb9469c95dfdb3ead3",
       "version_major": 2,
       "version_minor": 0
      },
      "text/plain": [
       "epochs:   0%|          | 0/140 [00:00<?, ?it/s]"
      ]
     },
     "metadata": {},
     "output_type": "display_data"
    },
    {
     "name": "stdout",
     "output_type": "stream",
     "text": [
      "Cor, 1, 2\n",
      "Cor, 1, 4\n",
      "Cor, 2, 2\n",
      "Cor, 2, 4\n",
      "Cor, 3, 2\n",
      "Cor, 3, 4\n",
      "Cor, 4, 2\n",
      "Cor, 4, 4\n",
      "Cor, 7, 2\n",
      "Cor, 8, 2\n",
      "bon, 3, 2\n",
      "bon, 3, 4\n",
      "bon, 3, 6\n",
      "bon, 4, 2\n",
      "bon, 4, 4\n",
      "bon, 4, 6\n",
      "bon, 5, 2\n",
      "bon, 5, 4\n",
      "bon, 5, 6\n",
      "bon, 6, 2\n",
      "bon, 6, 4\n",
      "bon, 6, 6\n",
      "bon, 7, 2\n",
      "bon, 7, 4\n",
      "bon, 7, 6\n",
      "bon, 8, 2\n",
      "bon, 8, 4\n",
      "bon, 8, 6\n",
      "bon, 9, 2\n",
      "bon, 9, 4\n",
      "bon, 9, 6\n",
      "bon, 10, 2\n",
      "bon, 10, 4\n",
      "bon, 10, 6\n",
      "cha, 4, 2\n",
      "cha, 4, 4\n",
      "cha, 8, 2\n",
      "cha, 8, 4\n",
      "con, 1, 2\n",
      "con, 1, 4\n",
      "con, 2, 2\n",
      "con, 2, 4\n",
      "con, 3, 2\n",
      "con, 3, 4\n",
      "con, 4, 2\n",
      "con, 4, 4\n",
      "con, 4, 6\n",
      "con, 5, 2\n",
      "con, 5, 4\n",
      "con, 5, 6\n",
      "con, 6, 2\n",
      "con, 6, 4\n",
      "con, 6, 6\n",
      "dav, 3, 2\n",
      "dav, 3, 4\n",
      "dav, 3, 6\n",
      "dav, 4, 2\n",
      "dav, 4, 4\n",
      "dav, 4, 6\n",
      "dav, 5, 3\n",
      "dav, 6, 2\n",
      "dav, 6, 4\n",
      "dav, 6, 6\n",
      "dav, 7, 2\n",
      "dav, 7, 3\n",
      "dav, 7, 5\n",
      "dav, 7, 7\n",
      "dav, 7, 9\n",
      "dud, 2, 2\n",
      "dud, 5, 2\n",
      "egy, 5, 2\n",
      "egy, 5, 4\n",
      "egy, 5, 6\n",
      "egy, 6, 4\n",
      "egy, 6, 7\n",
      "egy, 7, 2\n",
      "egy, 7, 4\n",
      "egy, 7, 6\n",
      "egy, 8, 2\n",
      "egy, 8, 4\n",
      "egy, 8, 6\n",
      "egy, 9, 2\n",
      "egy, 9, 4\n",
      "egy, 10, 2\n",
      "egy, 10, 4\n",
      "egy, 10, 6\n",
      "egy, 11, 2\n",
      "egy, 11, 4\n",
      "egy, 11, 6\n",
      "fra, 4, 2\n",
      "fra, 4, 4\n",
      "fra, 4, 6\n",
      "fra, 5, 2\n",
      "fra, 5, 4\n",
      "fra, 5, 6\n",
      "fra, 6, 2\n",
      "fra, 6, 4\n",
      "fra, 6, 6\n",
      "fra, 7, 2\n",
      "fra, 7, 4\n",
      "fra, 7, 6\n",
      "fra, 8, 2\n",
      "fra, 8, 4\n",
      "fra, 8, 6\n",
      "fra, 9, 2\n",
      "fra, 9, 4\n",
      "fra, 9, 6\n",
      "fra, 10, 2\n",
      "fra, 10, 4\n",
      "fra, 10, 6\n",
      "fra, 11, 2\n",
      "fra, 11, 4\n",
      "fra, 11, 6\n",
      "fra, 12, 2\n",
      "fra, 12, 4\n",
      "fra, 12, 6\n",
      "gov, 6, 2\n",
      "gov, 6, 4\n",
      "gov, 6, 6\n",
      "gov, 7, 2\n",
      "gov, 7, 4\n",
      "gov, 7, 6\n",
      "gov, 8, 2\n",
      "gov, 8, 4\n",
      "gov, 8, 6\n",
      "gov, 9, 2\n",
      "gov, 9, 3\n",
      "gov, 9, 5\n",
      "gov, 10, 2\n",
      "gov, 10, 4\n",
      "gov, 10, 6\n",
      "gov, 11, 2\n",
      "gov, 11, 4\n",
      "gov, 11, 6\n",
      "gov, 12, 2\n",
      "gov, 12, 4\n",
      "gov, 12, 6\n",
      "gov, 13, 2\n",
      "gov, 13, 4\n",
      "gov, 13, 6\n"
     ]
    }
   ],
   "source": [
    "DATA_DIR = '/home/zilong/Desktop/replay_trajectory_paper/Processed-Data'\n",
    "\n",
    "#initial a panda dataframe to store the number of SWRs in each epoch\n",
    "nSWRs = pd.DataFrame(columns=['animal', 'day', 'epoch', 'median'])\n",
    "\n",
    "for epoch_key in tqdm(epoch_info[valid_epochs].index, desc='epochs'):\n",
    "    animal, day, epoch = epoch_key\n",
    "    print(f'{animal}, {day}, {epoch}')\n",
    "    \n",
    "    #load the dictionary from the 'ReplayTrajectories' folder under PROCESSED_DATA_DIR using pickle\n",
    "    with open(os.path.join(DATA_DIR, 'ReplayTrajectories', f'{animal}_{day:02d}_{epoch:02d}_traj.pkl'), 'rb') as f:\n",
    "        Replay_traj = pickle.load(f)\n",
    "        \n",
    "    #get number of SWRs\n",
    "    n_swr = len(Replay_traj.keys())\n",
    "    \n",
    "    #add the number of SWRs to the panda dataframe\n",
    "    nSWRs = nSWRs.append({'animal': animal, 'day': day, 'epoch': epoch, 'nswr': n_swr}, ignore_index=True)\n",
    "    \n",
    "#save the panda dataframe to a panda series\n",
    "nSWRs_series = nSWRs.set_index(['animal', 'day', 'epoch']).nswr     "
   ]
  },
  {
   "cell_type": "code",
   "execution_count": 7,
   "metadata": {},
   "outputs": [
    {
     "name": "stdout",
     "output_type": "stream",
     "text": [
      "Mean number of SWRs: 172.7642857142857\n",
      "Std of number of SWRs: 62.39680524867857\n"
     ]
    }
   ],
   "source": [
    "#get the mean and std of the number of SWRs in nSWRs_series\n",
    "mean = nSWRs_series.mean()\n",
    "std = nSWRs_series.std()\n",
    "\n",
    "#print the mean and std\n",
    "print(f'Mean number of SWRs: {mean}')\n",
    "print(f'Std of number of SWRs: {std}')"
   ]
  },
  {
   "cell_type": "code",
   "execution_count": 14,
   "metadata": {},
   "outputs": [
    {
     "data": {
      "text/plain": [
       "(array([ 3.,  2.,  2.,  8.,  2., 17.,  8.,  9.,  9., 13., 11.,  9.,  5.,\n",
       "        11.,  9., 14.,  1.,  2.,  2.,  3.]),\n",
       " array([ 36.  ,  49.85,  63.7 ,  77.55,  91.4 , 105.25, 119.1 , 132.95,\n",
       "        146.8 , 160.65, 174.5 , 188.35, 202.2 , 216.05, 229.9 , 243.75,\n",
       "        257.6 , 271.45, 285.3 , 299.15, 313.  ]),\n",
       " <BarContainer object of 20 artists>)"
      ]
     },
     "execution_count": 14,
     "metadata": {},
     "output_type": "execute_result"
    },
    {
     "data": {
      "image/png": "[encoded data removed]",
      "text/plain": [
       "<Figure size 432x288 with 1 Axes>"
      ]
     },
     "metadata": {
      "needs_background": "light"
     },
     "output_type": "display_data"
    }
   ],
   "source": [
    "import matplotlib.pyplot as plt\n",
    "#plot the histogram of the number of SWRs\n",
    "plt.hist(nSWRs_series, bins=20)"
   ]
  },
  {
   "cell_type": "code",
   "execution_count": null,
   "metadata": {},
   "outputs": [],
   "source": []
  }
 ],
 "metadata": {
  "kernelspec": {
   "display_name": "replay_trajectory_paper",
   "language": "python",
   "name": "python3"
  },
  "language_info": {
   "codemirror_mode": {
    "name": "ipython",
    "version": 3
   },
   "file_extension": ".py",
   "mimetype": "text/x-python",
   "name": "python",
   "nbconvert_exporter": "python",
   "pygments_lexer": "ipython3",
   "version": "3.6.13"
  }
 },
 "nbformat": 4,
 "nbformat_minor": 2
}
