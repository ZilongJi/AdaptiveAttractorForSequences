{
 "cells": [
  {
   "cell_type": "markdown",
   "metadata": {},
   "source": [
    "# Check the correlation of both theta sweep length and replay diffusivity with spike numbers"
   ]
  },
  {
   "cell_type": "code",
   "execution_count": 1,
   "metadata": {},
   "outputs": [],
   "source": [
    "%matplotlib inline"
   ]
  },
  {
   "cell_type": "code",
   "execution_count": 2,
   "metadata": {},
   "outputs": [],
   "source": [
    "import os\n",
    "import pandas as pd\n",
    "import numpy as np\n",
    "import matplotlib.pyplot as plt\n",
    "from matplotlib.cm import ScalarMappable\n",
    "from matplotlib.colors import ListedColormap\n",
    "from scipy.stats import pearsonr\n",
    "from tqdm.auto import tqdm\n",
    "import pickle\n",
    "\n",
    "from loren_frank_data_processing import (make_epochs_dataframe, make_neuron_dataframe)\n",
    "from src.parameters import (ANIMALS, MIN_N_NEURONS, _BRAIN_AREAS)"
   ]
  },
  {
   "cell_type": "markdown",
   "metadata": {},
   "source": [
    "### 1, get the number of spikes for theta and for ripple events"
   ]
  },
  {
   "cell_type": "code",
   "execution_count": 3,
   "metadata": {},
   "outputs": [],
   "source": [
    "\n",
    "def get_multispike_numbers(epoch_key, DATA_DIR, sweep_speed_threshold=4):\n",
    "    animal, day, epoch = epoch_key\n",
    "        \n",
    "    #load multiunit spike info\n",
    "    multiunit_fr_filename = os.path.join(\n",
    "        DATA_DIR,\n",
    "        'ThetaSweepTrajectories',\n",
    "        f'{animal}_{day:02d}_{epoch:02d}_spike_info.pkl')\n",
    "    \n",
    "    with open(multiunit_fr_filename, 'rb') as f:\n",
    "        [spike, multiunit, multiunit_fr] = pickle.load(f)\n",
    "    \n",
    "    multiunit_spikes = (np.any(~np.isnan(multiunit.values), axis=1)\n",
    "                        ).astype(np.float)\n",
    "    sum_multiunit_spikes = np.sum(multiunit_spikes, axis=1)\n",
    "        \n",
    "    #load speed info\n",
    "    speed_filename = os.path.join(\n",
    "        DATA_DIR,\n",
    "        'ThetaSweepTrajectories',\n",
    "        f'{animal}_{day:02d}_{epoch:02d}_speed_info.pkl')\n",
    "    \n",
    "    with open(speed_filename, 'rb') as f:\n",
    "        speed_dic = pickle.load(f)\n",
    "        #if length of speed_dic is less than spike, then reindex speed_dic by adding 0s\n",
    "        if len(speed_dic) < len(spike):\n",
    "            speed_dic = speed_dic.reindex(spike.index, fill_value=0)\n",
    "        speed = speed_dic.values\n",
    "    \n",
    "    is_running_index = speed > sweep_speed_threshold\n",
    "\n",
    "    #get the number of spikes from sum_multiunit_spikes when running\n",
    "    running_spikes = sum_multiunit_spikes[is_running_index].sum()\n",
    "    #get the duration of running in ms, sampling time is 2ms\n",
    "    running_duration = is_running_index.sum()*2\n",
    "    \n",
    "    mean_runnning_spikes = running_spikes/running_duration  #spike per ms\n",
    "    mean_runnning_spikes = 100 * mean_runnning_spikes #spike per 100ms\n",
    "\n",
    "    #load ripple info from csv file under folder: ReplayTrajectories\n",
    "    replay_info_path = os.path.join(\n",
    "        DATA_DIR,\n",
    "        'ReplayTrajectories/'\n",
    "        f\"{animal}_{day:02d}_{epoch:02d}_clusterless_1D_no_interneuron_replay_info_80.csv\",\n",
    "    )\n",
    "    \n",
    "    #read the csv file and extract the first three columns\n",
    "    replay_info = pd.read_csv(replay_info_path, usecols=[0, 1, 2])\n",
    "\n",
    "    #get the replay trajectory from pkl file under folder: ReplayTrajectories\n",
    "    with open(os.path.join(DATA_DIR, 'ReplayTrajectories', f'{animal}_{day:02d}_{epoch:02d}_traj.pkl'), 'rb') as f:\n",
    "        Replay_traj = pickle.load(f)\n",
    "\n",
    "    #for each replay trajectory in Replay_traj, calculate te step size of two successive points\n",
    "    #and get the multiunit spikes in the corresponding time bin\n",
    "    ripple_spikes_list = []\n",
    "    total_ripple_duration = []\n",
    "    times = spike.index\n",
    "\n",
    "    for i in Replay_traj.keys():\n",
    "        #get the start time of the replay trajectory\n",
    "        replay_start_time = replay_info.loc[replay_info['ripple_number'] == i, 'start_time'].values[0]\n",
    "        #keep strings after 'days '\n",
    "        replay_start_time = replay_start_time.split('days ')[1]\n",
    "        #convert to time delta  \n",
    "        replay_start_time = pd.to_timedelta(replay_start_time)\n",
    "        \n",
    "        replay_end_time = replay_info.loc[replay_info['ripple_number'] == i, 'end_time'].values[0]\n",
    "        \n",
    "        #get index when time > replay_start_time and time < replay_end_time\n",
    "        is_ripple_index = times.get_indexer_for(times[(times>=replay_start_time) & (times<=replay_end_time)])\n",
    "        \n",
    "        #het the sum_multiunit_spikes with index\n",
    "        summed_spikes = np.sum(sum_multiunit_spikes[is_ripple_index])\n",
    "        \n",
    "        #ripple duration in ms\n",
    "        ripple_duration = (replay_end_time - replay_start_time).total_seconds()*1000\n",
    "        total_ripple_duration.append(ripple_duration)\n",
    "        \n",
    "        ripple_spikes_list.append(summed_spikes)\n",
    "    \n",
    "    ripple_spikes = np.sum(ripple_spikes_list)\n",
    "    \n",
    "    total_ripple_duration = np.sum(total_ripple_duration)\n",
    "    \n",
    "    mean_ripple_spikes = ripple_spikes/total_ripple_duration  #spike per ms\n",
    "    mean_ripple_spikes = 100 * mean_ripple_spikes #spike per 100ms\n",
    "    \n",
    "    return mean_runnning_spikes, mean_ripple_spikes\n",
    "        \n"
   ]
  },
  {
   "cell_type": "code",
   "execution_count": 4,
   "metadata": {},
   "outputs": [],
   "source": [
    "epoch_key = ('gov', 8, 6)\n",
    "DATA_DIR = \"/home/zilong/Desktop/replay_trajectory_paper/Processed-Data/\"\n",
    "\n",
    "running_spikes, ripple_spikes = get_multispike_numbers(epoch_key, DATA_DIR)"
   ]
  },
  {
   "cell_type": "code",
   "execution_count": 5,
   "metadata": {},
   "outputs": [],
   "source": [
    "epoch_info = make_epochs_dataframe(ANIMALS)\n",
    "neuron_info = make_neuron_dataframe(ANIMALS)\n",
    "\n",
    "neuron_info = neuron_info.loc[\n",
    "(neuron_info.type == 'principal') &\n",
    "(neuron_info.numspikes > 100) &\n",
    "neuron_info.area.isin(_BRAIN_AREAS)]\n",
    "\n",
    "\n",
    "n_neurons = (neuron_info\n",
    "                .groupby(['animal', 'day', 'epoch'])\n",
    "                .neuron_id\n",
    "                .agg(len)\n",
    "                .rename('n_neurons')\n",
    "                .to_frame())\n",
    "\n",
    "epoch_info = epoch_info.join(n_neurons)\n",
    "is_w_track = (epoch_info.environment\n",
    "                .isin(['TrackA', 'TrackB', 'WTrackA', 'WTrackB']))\n",
    "\n",
    "is_animal = epoch_info.index.isin(['bon', 'fra', 'gov', 'dud', 'con', 'Cor', 'dav', 'egy', 'cha'], level='animal')\n",
    "\n",
    "valid_epochs = (is_w_track &\n",
    "                (epoch_info.n_neurons > MIN_N_NEURONS) &\n",
    "                is_animal\n",
    "                )\n",
    "\n"
   ]
  },
  {
   "cell_type": "code",
   "execution_count": 6,
   "metadata": {},
   "outputs": [
    {
     "data": {
      "application/vnd.jupyter.widget-view+json": {
       "model_id": "3e3cfe8c210849699326720f346b363c",
       "version_major": 2,
       "version_minor": 0
      },
      "text/plain": [
       "epochs:   0%|          | 0/24 [00:00<?, ?it/s]"
      ]
     },
     "metadata": {},
     "output_type": "display_data"
    },
    {
     "name": "stdout",
     "output_type": "stream",
     "text": [
      "Animal: bon, Day: 3, Epoch: 2\n",
      "Animal: bon, Day: 3, Epoch: 4\n",
      "Animal: bon, Day: 3, Epoch: 6\n",
      "Animal: bon, Day: 4, Epoch: 4\n",
      "Animal: bon, Day: 4, Epoch: 6\n",
      "Animal: bon, Day: 5, Epoch: 2\n",
      "Animal: bon, Day: 5, Epoch: 4\n",
      "Animal: bon, Day: 5, Epoch: 6\n",
      "Animal: bon, Day: 6, Epoch: 2\n",
      "Animal: bon, Day: 6, Epoch: 4\n",
      "Animal: bon, Day: 6, Epoch: 6\n",
      "Animal: bon, Day: 7, Epoch: 2\n",
      "Animal: bon, Day: 7, Epoch: 4\n",
      "Animal: bon, Day: 7, Epoch: 6\n",
      "Animal: bon, Day: 8, Epoch: 2\n",
      "Animal: bon, Day: 8, Epoch: 4\n",
      "Animal: bon, Day: 8, Epoch: 6\n",
      "Animal: bon, Day: 9, Epoch: 2\n",
      "Animal: bon, Day: 9, Epoch: 4\n",
      "Animal: bon, Day: 9, Epoch: 6\n",
      "Animal: bon, Day: 10, Epoch: 2\n",
      "Animal: bon, Day: 10, Epoch: 4\n",
      "Animal: bon, Day: 10, Epoch: 6\n"
     ]
    },
    {
     "data": {
      "application/vnd.jupyter.widget-view+json": {
       "model_id": "3e186f26878943cfad5d0c29b5a96d08",
       "version_major": 2,
       "version_minor": 0
      },
      "text/plain": [
       "epochs:   0%|          | 0/27 [00:00<?, ?it/s]"
      ]
     },
     "metadata": {},
     "output_type": "display_data"
    },
    {
     "name": "stdout",
     "output_type": "stream",
     "text": [
      "Animal: fra, Day: 4, Epoch: 2\n",
      "Animal: fra, Day: 4, Epoch: 4\n",
      "Animal: fra, Day: 4, Epoch: 6\n",
      "Animal: fra, Day: 5, Epoch: 2\n",
      "Animal: fra, Day: 5, Epoch: 4\n",
      "Animal: fra, Day: 5, Epoch: 6\n",
      "Animal: fra, Day: 6, Epoch: 2\n",
      "Animal: fra, Day: 6, Epoch: 4\n",
      "Animal: fra, Day: 6, Epoch: 6\n",
      "Animal: fra, Day: 7, Epoch: 2\n",
      "Animal: fra, Day: 7, Epoch: 4\n",
      "Animal: fra, Day: 7, Epoch: 6\n",
      "Animal: fra, Day: 8, Epoch: 2\n",
      "Animal: fra, Day: 8, Epoch: 4\n",
      "Animal: fra, Day: 8, Epoch: 6\n",
      "Animal: fra, Day: 9, Epoch: 2\n",
      "Animal: fra, Day: 9, Epoch: 4\n",
      "Animal: fra, Day: 9, Epoch: 6\n",
      "Animal: fra, Day: 10, Epoch: 2\n",
      "Animal: fra, Day: 10, Epoch: 4\n",
      "Animal: fra, Day: 10, Epoch: 6\n",
      "Animal: fra, Day: 11, Epoch: 2\n",
      "Animal: fra, Day: 11, Epoch: 4\n",
      "Animal: fra, Day: 11, Epoch: 6\n",
      "Animal: fra, Day: 12, Epoch: 2\n",
      "Animal: fra, Day: 12, Epoch: 4\n",
      "Animal: fra, Day: 12, Epoch: 6\n"
     ]
    },
    {
     "data": {
      "application/vnd.jupyter.widget-view+json": {
       "model_id": "bad3ee336b244b03adf638ea1399281f",
       "version_major": 2,
       "version_minor": 0
      },
      "text/plain": [
       "epochs:   0%|          | 0/24 [00:00<?, ?it/s]"
      ]
     },
     "metadata": {},
     "output_type": "display_data"
    },
    {
     "name": "stdout",
     "output_type": "stream",
     "text": [
      "Animal: gov, Day: 6, Epoch: 2\n",
      "Animal: gov, Day: 6, Epoch: 4\n",
      "Animal: gov, Day: 6, Epoch: 6\n",
      "Animal: gov, Day: 7, Epoch: 2\n",
      "Animal: gov, Day: 7, Epoch: 4\n",
      "Animal: gov, Day: 7, Epoch: 6\n",
      "Animal: gov, Day: 8, Epoch: 2\n",
      "Animal: gov, Day: 8, Epoch: 4\n",
      "Animal: gov, Day: 8, Epoch: 6\n",
      "Animal: gov, Day: 9, Epoch: 2\n",
      "Animal: gov, Day: 9, Epoch: 3\n",
      "Animal: gov, Day: 9, Epoch: 5\n",
      "Animal: gov, Day: 10, Epoch: 2\n",
      "Animal: gov, Day: 10, Epoch: 4\n",
      "Animal: gov, Day: 10, Epoch: 6\n",
      "Animal: gov, Day: 11, Epoch: 2\n",
      "Animal: gov, Day: 11, Epoch: 4\n",
      "Animal: gov, Day: 11, Epoch: 6\n",
      "Animal: gov, Day: 12, Epoch: 2\n",
      "Animal: gov, Day: 12, Epoch: 4\n",
      "Animal: gov, Day: 12, Epoch: 6\n",
      "Animal: gov, Day: 13, Epoch: 2\n",
      "Animal: gov, Day: 13, Epoch: 4\n",
      "Animal: gov, Day: 13, Epoch: 6\n"
     ]
    },
    {
     "data": {
      "application/vnd.jupyter.widget-view+json": {
       "model_id": "5892f9ba523949c1bc25a865989b344f",
       "version_major": 2,
       "version_minor": 0
      },
      "text/plain": [
       "epochs:   0%|          | 0/2 [00:00<?, ?it/s]"
      ]
     },
     "metadata": {},
     "output_type": "display_data"
    },
    {
     "name": "stdout",
     "output_type": "stream",
     "text": [
      "Animal: dud, Day: 2, Epoch: 2\n",
      "Animal: dud, Day: 5, Epoch: 2\n"
     ]
    },
    {
     "data": {
      "application/vnd.jupyter.widget-view+json": {
       "model_id": "45331ed739fd484f9e64c563549f76ed",
       "version_major": 2,
       "version_minor": 0
      },
      "text/plain": [
       "epochs:   0%|          | 0/15 [00:00<?, ?it/s]"
      ]
     },
     "metadata": {},
     "output_type": "display_data"
    },
    {
     "name": "stdout",
     "output_type": "stream",
     "text": [
      "Animal: con, Day: 1, Epoch: 2\n",
      "Animal: con, Day: 1, Epoch: 4\n",
      "Animal: con, Day: 2, Epoch: 2\n",
      "Animal: con, Day: 2, Epoch: 4\n",
      "Animal: con, Day: 3, Epoch: 2\n",
      "Animal: con, Day: 3, Epoch: 4\n",
      "Animal: con, Day: 4, Epoch: 2\n",
      "Animal: con, Day: 4, Epoch: 4\n",
      "Animal: con, Day: 4, Epoch: 6\n",
      "Animal: con, Day: 5, Epoch: 2\n",
      "Animal: con, Day: 5, Epoch: 4\n",
      "Animal: con, Day: 5, Epoch: 6\n",
      "Animal: con, Day: 6, Epoch: 2\n",
      "Animal: con, Day: 6, Epoch: 4\n",
      "Animal: con, Day: 6, Epoch: 6\n"
     ]
    },
    {
     "data": {
      "application/vnd.jupyter.widget-view+json": {
       "model_id": "26f2622332fb4b99b0e64d200d208280",
       "version_major": 2,
       "version_minor": 0
      },
      "text/plain": [
       "epochs:   0%|          | 0/15 [00:00<?, ?it/s]"
      ]
     },
     "metadata": {},
     "output_type": "display_data"
    },
    {
     "name": "stdout",
     "output_type": "stream",
     "text": [
      "Animal: dav, Day: 3, Epoch: 2\n",
      "Animal: dav, Day: 3, Epoch: 4\n",
      "Animal: dav, Day: 3, Epoch: 6\n",
      "Animal: dav, Day: 4, Epoch: 2\n",
      "Animal: dav, Day: 4, Epoch: 4\n",
      "Animal: dav, Day: 4, Epoch: 6\n",
      "Animal: dav, Day: 5, Epoch: 3\n",
      "Animal: dav, Day: 6, Epoch: 2\n",
      "Animal: dav, Day: 6, Epoch: 4\n",
      "Animal: dav, Day: 6, Epoch: 6\n",
      "Animal: dav, Day: 7, Epoch: 2\n",
      "Animal: dav, Day: 7, Epoch: 3\n",
      "Animal: dav, Day: 7, Epoch: 5\n",
      "Animal: dav, Day: 7, Epoch: 7\n",
      "Animal: dav, Day: 7, Epoch: 9\n"
     ]
    },
    {
     "data": {
      "application/vnd.jupyter.widget-view+json": {
       "model_id": "71a637b95843426da2f8270ec13c537c",
       "version_major": 2,
       "version_minor": 0
      },
      "text/plain": [
       "epochs:   0%|          | 0/10 [00:00<?, ?it/s]"
      ]
     },
     "metadata": {},
     "output_type": "display_data"
    },
    {
     "name": "stdout",
     "output_type": "stream",
     "text": [
      "Animal: Cor, Day: 1, Epoch: 2\n",
      "Animal: Cor, Day: 1, Epoch: 4\n",
      "Animal: Cor, Day: 2, Epoch: 2\n",
      "Animal: Cor, Day: 2, Epoch: 4\n",
      "Animal: Cor, Day: 3, Epoch: 2\n",
      "Animal: Cor, Day: 3, Epoch: 4\n",
      "Animal: Cor, Day: 4, Epoch: 2\n",
      "Animal: Cor, Day: 4, Epoch: 4\n",
      "Animal: Cor, Day: 7, Epoch: 2\n",
      "Animal: Cor, Day: 8, Epoch: 2\n"
     ]
    },
    {
     "data": {
      "application/vnd.jupyter.widget-view+json": {
       "model_id": "650894d722a14d989698247e4706f341",
       "version_major": 2,
       "version_minor": 0
      },
      "text/plain": [
       "epochs:   0%|          | 0/19 [00:00<?, ?it/s]"
      ]
     },
     "metadata": {},
     "output_type": "display_data"
    },
    {
     "name": "stdout",
     "output_type": "stream",
     "text": [
      "Animal: egy, Day: 5, Epoch: 2\n",
      "Animal: egy, Day: 5, Epoch: 4\n",
      "Animal: egy, Day: 5, Epoch: 6\n",
      "Animal: egy, Day: 6, Epoch: 4\n",
      "Animal: egy, Day: 6, Epoch: 7\n",
      "Animal: egy, Day: 7, Epoch: 2\n",
      "Animal: egy, Day: 7, Epoch: 4\n",
      "Animal: egy, Day: 7, Epoch: 6\n",
      "Animal: egy, Day: 8, Epoch: 2\n",
      "Animal: egy, Day: 8, Epoch: 4\n",
      "Animal: egy, Day: 8, Epoch: 6\n",
      "Animal: egy, Day: 9, Epoch: 2\n",
      "Animal: egy, Day: 9, Epoch: 4\n",
      "Animal: egy, Day: 10, Epoch: 4\n",
      "Animal: egy, Day: 10, Epoch: 6\n",
      "Animal: egy, Day: 11, Epoch: 2\n",
      "Animal: egy, Day: 11, Epoch: 4\n",
      "Animal: egy, Day: 11, Epoch: 6\n"
     ]
    },
    {
     "data": {
      "application/vnd.jupyter.widget-view+json": {
       "model_id": "2e211a40886548a7a7db525837d6f3a4",
       "version_major": 2,
       "version_minor": 0
      },
      "text/plain": [
       "epochs:   0%|          | 0/4 [00:00<?, ?it/s]"
      ]
     },
     "metadata": {},
     "output_type": "display_data"
    },
    {
     "name": "stdout",
     "output_type": "stream",
     "text": [
      "Animal: cha, Day: 4, Epoch: 2\n",
      "Animal: cha, Day: 4, Epoch: 4\n",
      "Animal: cha, Day: 8, Epoch: 2\n",
      "Animal: cha, Day: 8, Epoch: 4\n"
     ]
    }
   ],
   "source": [
    "DATA_DIR = \"/home/zilong/Desktop/replay_trajectory_paper/Processed-Data/\"\n",
    "animal_names = ['bon', 'fra', 'gov', 'dud', 'con', 'dav', 'Cor', 'egy', 'cha']\n",
    "\n",
    "all_running_spikes_perday = {}\n",
    "all_ripple_spikes_perday = {}\n",
    "\n",
    "\n",
    "for name in animal_names:\n",
    "    \n",
    "    is_animal = epoch_info.index.isin([name], level='animal')\n",
    "\n",
    "    valid_epochs = (is_w_track &\n",
    "                    (epoch_info.n_neurons > MIN_N_NEURONS) &\n",
    "                    is_animal\n",
    "                    )\n",
    "    \n",
    "    for epoch_key in tqdm(epoch_info[valid_epochs].index, desc='epochs'):\n",
    "        animal, day, epoch = epoch_key\n",
    "        #skip 'egy', 10, 2 since no mental_distance_from_actual_position is saved (double check later)\n",
    "        if (animal, day, epoch) == ('egy', 10, 2):\n",
    "            continue\n",
    "        \n",
    "        if (animal, day, epoch) == ('bon', 4, 2):\n",
    "            continue\n",
    "\n",
    "        print(f'Animal: {animal}, Day: {day}, Epoch: {epoch}')\n",
    "        \n",
    "        running_spikes, ripple_spikes = get_multispike_numbers(epoch_key, DATA_DIR)\n",
    "        \n",
    "        all_running_spikes_perday.setdefault((animal, day), []).append(running_spikes)\n",
    "        all_ripple_spikes_perday.setdefault((animal, day), []).append(ripple_spikes)\n",
    "\n",
    "all_running_spikes_perday_concat = {}   \n",
    "all_ripple_spikes_perday_concat = {}\n",
    "\n",
    "for key in all_running_spikes_perday.keys():\n",
    "    all_running_spikes_perday_concat.setdefault(key[0], []).append(np.mean(all_running_spikes_perday[key]))\n",
    "    all_ripple_spikes_perday_concat.setdefault(key[0], []).append(np.mean(all_ripple_spikes_perday[key]))\n",
    "    \n",
    "    "
   ]
  },
  {
   "cell_type": "markdown",
   "metadata": {},
   "source": [
    "### 2, load theta sweep length and the awake replay diffusion exponent for each animal each day"
   ]
  },
  {
   "cell_type": "code",
   "execution_count": 7,
   "metadata": {},
   "outputs": [],
   "source": [
    "# load real data: ./sweep_replay_correlation_realdata.pkl\n",
    "# !!! need to run SeeepAwakeReplayCorrelation.ipynb first to generate the pickle file if not exist\n",
    "with open(\"../../Processed-Data/sweep_replay_correlation_realdata.pkl\", \"rb\") as f:\n",
    "    (\n",
    "        animal_names,\n",
    "        all_sweep_len_perday_concat,\n",
    "        all_sweep_amp_perday_concat,\n",
    "        all_sweep_ahead_perday_concat,\n",
    "        all_sweep_behind_perday_concat,\n",
    "        all_exponent_perday_concat,\n",
    "        all_ave_activespeed_perday_concat,\n",
    "    ) = pickle.load(f)"
   ]
  },
  {
   "cell_type": "markdown",
   "metadata": {},
   "source": [
    "### 3, plot the correlation between all_running_spikes_perday_concat and theta sweep amp, replay diffusivity"
   ]
  },
  {
   "cell_type": "code",
   "execution_count": 11,
   "metadata": {},
   "outputs": [
    {
     "data": {
      "image/png": "[encoded data removed]",
      "text/plain": [
       "<Figure size 1200x750 with 4 Axes>"
      ]
     },
     "metadata": {
      "needs_background": "light"
     },
     "output_type": "display_data"
    }
   ],
   "source": [
    "# plot all_exponent_perday_concat_shuffled against all_sweep_len_perday_concat_shuffled\n",
    "colors = plt.cm.get_cmap(\"tab10\", len(animal_names))\n",
    "color_dict = {}\n",
    "for i, name in enumerate(animal_names):\n",
    "    color_dict[name] = colors(i)\n",
    "\n",
    "# plot the exponent against average active speed, and intercept against average active speed\n",
    "plt.figure(figsize=(4, 2.5), dpi=300)\n",
    "ticksize = 8\n",
    "labelsize = 10\n",
    "\n",
    "\n",
    "ax1 = plt.subplot(1, 2, 1)\n",
    "\n",
    "for name in animal_names:\n",
    "    plt.scatter(\n",
    "        np.array(all_running_spikes_perday_concat[name]),\n",
    "        np.array(all_sweep_amp_perday_concat[name]),\n",
    "        s=15,\n",
    "        alpha=0.6,\n",
    "        color=color_dict[name],\n",
    "        edgecolors=\"none\",\n",
    "    )\n",
    "\n",
    "# add linear fit line to the plot using numpy.polyfit\n",
    "# convert all_sweep_len_perday_concat_shuffled and all_exponent_perday_concat_shuffled to numpy array\n",
    "spikes_np = np.concatenate(list(all_running_spikes_perday_concat.values()))\n",
    "sweep_amp_np = np.concatenate(list(all_sweep_amp_perday_concat.values()))\n",
    "slope, intercept = np.polyfit(spikes_np, sweep_amp_np, 1)\n",
    "# pearson test\n",
    "corr, p = pearsonr(spikes_np, sweep_amp_np)\n",
    "\n",
    "# if p<0.001, then add label as 'r = %.2f, p < 0.001'; else add label as 'r = %.2f, p = %.3f'\n",
    "if p < 0.001:\n",
    "    ax1.plot(\n",
    "        spikes_np,\n",
    "        spikes_np * slope + intercept,\n",
    "        \"k-\",\n",
    "        label=\"r = %.2f, p < 0.001\" % (corr),\n",
    "        linewidth=1,\n",
    "    )\n",
    "else:\n",
    "    ax1.plot(\n",
    "        spikes_np,\n",
    "        spikes_np * slope + intercept,\n",
    "        \"k-\",\n",
    "        label=\"r = %.2f, p = %.3f\" % (corr, p),\n",
    "        linewidth=1,\n",
    "    )\n",
    "\n",
    "# legend\n",
    "ax1.legend(fontsize=ticksize, frameon=False, loc=\"center\", bbox_to_anchor=(0.5, 1.3))\n",
    "\n",
    "# add colorbar with alpha 0.8\n",
    "cmap = ListedColormap(color_dict.values())\n",
    "# Create a ScalarMappable with the colormap and normalize it\n",
    "sm = ScalarMappable(cmap=cmap, norm=plt.Normalize(vmin=0, vmax=len(color_dict)))\n",
    "# Set the colorbar properties\n",
    "cbar = plt.colorbar(sm, ax=ax1, ticks=list(range(len(color_dict))), alpha=0.6)\n",
    "# Set colorbar ticks by adding 1 to each tick\n",
    "ticks = list(range(len(color_dict)))\n",
    "cbar.set_ticks([tick + 0.5 for tick in ticks])\n",
    "# set tick labels by adding 1 to each tick\n",
    "cbar.set_ticklabels(list(range(1, len(color_dict) + 1)))\n",
    "# Set colorbar ticklabels by adding 1 to each tick\n",
    "# Set colorbar label\n",
    "cbar.set_label(\"Animal id\", fontsize=ticksize)\n",
    "# remove the box of the colorbar\n",
    "cbar.outline.set_visible(False)\n",
    "# set cbar tick size, # remove the short ticks in cbar\n",
    "cbar.ax.tick_params(labelsize=ticksize, length=0)\n",
    "\n",
    "ax1.set_xlabel(\"# of spikes (per 100ms) \\n during running\", fontsize=labelsize)\n",
    "ax1.set_ylabel(\"Average sweep \\n length (cm)\", fontsize=labelsize)\n",
    "\n",
    "\n",
    "ax2 = plt.subplot(1, 2, 2)\n",
    "\n",
    "\n",
    "# plot all_exponent_perday_concat_shuffled_crossanimal against all_sweep_len_perday_concat_shuffled_crossanimal\n",
    "for name in animal_names:\n",
    "    plt.scatter(\n",
    "        np.array(all_ripple_spikes_perday_concat[name]),\n",
    "        np.array(all_exponent_perday_concat[name]),\n",
    "        s=15,\n",
    "        alpha=0.6,\n",
    "        color=color_dict[name],\n",
    "        edgecolors=\"none\",\n",
    "    )\n",
    "\n",
    "# add linear fit line to the plot using numpy.polyfit\n",
    "# convert all_sweep_len_perday_concat_shuffled_crossanimal and all_exponent_perday_concat_shuffled_crossanimal to numpy array\n",
    "spikes_np = np.concatenate(list(all_ripple_spikes_perday_concat.values()))\n",
    "exp_np = np.concatenate(\n",
    "    list(all_exponent_perday_concat.values())\n",
    ")\n",
    "slope, intercept = np.polyfit(spikes_np, exp_np, 1)\n",
    "\n",
    "# pearson test\n",
    "corr, p = pearsonr(spikes_np, exp_np)\n",
    "\n",
    "# if p<0.001, then add label as 'r = %.2f, p < 0.001'; else add label as 'r = %.2f, p = %.3f'\n",
    "if p < 0.001:\n",
    "    ax2.plot(\n",
    "        spikes_np,\n",
    "        spikes_np * slope + intercept,\n",
    "        \"k-\",\n",
    "        label=\"r = %.2f, p < 0.001\" % (corr),\n",
    "        linewidth=1,\n",
    "    )\n",
    "else:\n",
    "    ax2.plot(\n",
    "        spikes_np,\n",
    "        spikes_np * slope + intercept,\n",
    "        \"k-\",\n",
    "        label=\"r = %.2f, p = %.3f\" % (corr, p),\n",
    "        linewidth=1,\n",
    "    )\n",
    "\n",
    "# legend\n",
    "ax2.legend(fontsize=ticksize, frameon=False, loc=\"center\", bbox_to_anchor=(0.5, 1.3))\n",
    "\n",
    "# add colorbar with alpha 0.8\n",
    "cmap = ListedColormap(color_dict.values())\n",
    "# Create a ScalarMappable with the colormap and normalize it\n",
    "sm = ScalarMappable(cmap=cmap, norm=plt.Normalize(vmin=0, vmax=len(color_dict)))\n",
    "# Set the colorbar properties\n",
    "cbar = plt.colorbar(sm, ax=ax2, ticks=list(range(len(color_dict))), alpha=0.6)\n",
    "# Set colorbar ticks by adding 1 to each tick\n",
    "ticks = list(range(len(color_dict)))\n",
    "cbar.set_ticks([tick + 0.5 for tick in ticks])\n",
    "# set tick labels by adding 1 to each tick\n",
    "cbar.set_ticklabels(list(range(1, len(color_dict) + 1)))\n",
    "# Set colorbar ticklabels by adding 1 to each tick\n",
    "# Set colorbar label\n",
    "cbar.set_label(\"Animal id\", fontsize=ticksize)\n",
    "# remove the box of the colorbar\n",
    "cbar.outline.set_visible(False)\n",
    "# set cbar tick size, # remove the short ticks in cbar\n",
    "cbar.ax.tick_params(labelsize=ticksize, length=0)\n",
    "\n",
    "ax2.set_xlabel(\"# of spikes (per 100ms) \\n in ripple events \", fontsize=labelsize)\n",
    "ax2.set_ylabel(\"Diffusion exp.\", fontsize=labelsize)\n",
    "ax2.set_ylim([0.5, 1.1])\n",
    "\n",
    "for ax in [ax1, ax2]:\n",
    "    ax.tick_params(labelsize=ticksize)\n",
    "    ax.spines[\"right\"].set_visible(False)\n",
    "    ax.spines[\"top\"].set_visible(False)\n",
    "    # axis line width 1.0\n",
    "    ax.spines[\"bottom\"].set_linewidth(1.0)\n",
    "    ax.spines[\"left\"].set_linewidth(1.0)\n",
    "    # remove the tick bars on the left and bottom\n",
    "    ax.tick_params(axis=\"both\", which=\"both\", length=0)\n",
    "\n",
    "plt.tight_layout()\n",
    "\n",
    "\n",
    "plt.savefig(\n",
    "    \"../../Processed-Data/Paper_figures/FigSI_correlation_with_spike_release.pdf\",\n",
    "    bbox_inches=\"tight\",\n",
    "    dpi=300,\n",
    ")"
   ]
  },
  {
   "cell_type": "code",
   "execution_count": null,
   "metadata": {},
   "outputs": [],
   "source": []
  },
  {
   "cell_type": "code",
   "execution_count": null,
   "metadata": {},
   "outputs": [],
   "source": []
  }
 ],
 "metadata": {
  "kernelspec": {
   "display_name": "replay_trajectory_paper",
   "language": "python",
   "name": "python3"
  },
  "language_info": {
   "codemirror_mode": {
    "name": "ipython",
    "version": 3
   },
   "file_extension": ".py",
   "mimetype": "text/x-python",
   "name": "python",
   "nbconvert_exporter": "python",
   "pygments_lexer": "ipython3",
   "version": "3.6.13"
  }
 },
 "nbformat": 4,
 "nbformat_minor": 2
}
