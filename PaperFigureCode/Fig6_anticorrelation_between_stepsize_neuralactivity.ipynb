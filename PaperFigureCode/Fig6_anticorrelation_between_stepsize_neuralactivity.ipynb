{
 "cells": [
  {
   "cell_type": "code",
   "execution_count": 1,
   "metadata": {},
   "outputs": [
    {
     "name": "stderr",
     "output_type": "stream",
     "text": [
      "/Users/chutianhao/opt/anaconda3/envs/bp311/lib/python3.11/site-packages/tqdm/auto.py:21: TqdmWarning: IProgress not found. Please update jupyter and ipywidgets. See https://ipywidgets.readthedocs.io/en/stable/user_install.html\n",
      "  from .autonotebook import tqdm as notebook_tqdm\n"
     ]
    }
   ],
   "source": [
    "import brainpy as bp\n",
    "import brainpy.math as bm\n",
    "import numpy as np\n",
    "import matplotlib.pyplot as plt\n",
    "import matplotlib.gridspec as gridspec\n",
    "import scipy\n",
    "\n",
    "import sys\n",
    "sys.path.append('..')\n",
    "from cann import CANN1D\n",
    "\n",
    "#set backend to cpu\n",
    "bm.set_platform('cpu') "
   ]
  },
  {
   "cell_type": "markdown",
   "metadata": {},
   "source": [
    "### define a function to get step size, averaged firing rate and bump_center"
   ]
  },
  {
   "cell_type": "code",
   "execution_count": 2,
   "metadata": {},
   "outputs": [],
   "source": [
    "replay_dur = 10000      #simulate 200 ms, roughly the length of a SWR\n",
    "init_dur = 50 #initial 10 ms to let the network settle\n",
    "\n",
    "def get_results(mbar, sigma_m=0.1, sigma_u=0.02):\n",
    "    #initialize the network\n",
    "    replay_cann_1 = CANN1D(tau=1., tau_v=48., num=128, mbar=mbar, A=0.01, sigma_m=sigma_m, sigma_u=sigma_u)\n",
    "    replay_cann_1.reset_state()\n",
    "    Iext, length = bp.inputs.section_input(\n",
    "        values=[replay_cann_1.get_stimulus_by_pos(-3/4*np.pi), 0.], #initial position of the bump\n",
    "        durations=[init_dur, replay_dur],\n",
    "        return_length=True\n",
    "    )\n",
    "    noise = 0.00* bm.random.randn(len(Iext), replay_cann_1.num) #add independent noise to the input with level 0.02\n",
    "    Iext = Iext + noise\n",
    "    Iext = bm.as_numpy(Iext)\n",
    "\n",
    "    #run the network\n",
    "    replay_runner_1 = bp.DSRunner(replay_cann_1,\n",
    "                        inputs=('input', Iext, 'iter'),\n",
    "                        monitors=['center', 'r'],\n",
    "                        progress_bar=False)\n",
    "\n",
    "    replay_runner_1.run(length)\n",
    "\n",
    "    replay_start = int(init_dur/replay_runner_1.dt)\n",
    "\n",
    "    bum_center = replay_runner_1.mon.center\n",
    "    #squeeze the array\n",
    "    bum_center = np.squeeze(bum_center)[replay_start:]\n",
    "\n",
    "    fr = bm.as_numpy(replay_runner_1.mon.r)\n",
    "    fr = fr[replay_start:, :]\n",
    "\n",
    "    #get the mean fr for each time step]\n",
    "    # fr_thres = np.max(fr)\n",
    "    # fr = np.where(fr<fr_thres/10, 0, fr)\n",
    "    ave_fr = np.sum(fr, axis=1)\n",
    "    # ave_fr = np.mean(fr, axis=1)\n",
    "\n",
    "    #caulcte the stepsize of the bump_center\n",
    "    stepsize = np.abs(np.diff(bum_center, axis=0))\n",
    "    #add 0 at the beginning of the array\n",
    "    stepsize = np.insert(stepsize, 0, 0, axis=0)\n",
    "\n",
    "    #remove stepsize that is more than 1 for periodic boundary effect\n",
    "    index = stepsize > 0.8\n",
    "    stepsize = stepsize[~index]\n",
    "    ave_fr = ave_fr[~index]\n",
    "    bump_center = bum_center[~index]\n",
    "    \n",
    "    return stepsize, ave_fr, bump_center\n",
    "\n"
   ]
  },
  {
   "cell_type": "markdown",
   "metadata": {},
   "source": [
    "### simulate the newtwork N times and plot the relationship between fr and step size"
   ]
  },
  {
   "cell_type": "code",
   "execution_count": 13,
   "metadata": {},
   "outputs": [
    {
     "name": "stderr",
     "output_type": "stream",
     "text": [
      "/Users/chutianhao/opt/anaconda3/envs/bp311/lib/python3.11/site-packages/brainpy/_src/dynsys.py:300: UserWarning: \n",
      "From brainpy>=2.4.3, update() function no longer needs to receive a global shared argument.\n",
      "\n",
      "Instead of using:\n",
      "\n",
      "  def update(self, tdi, *args, **kwagrs):\n",
      "     t = tdi['t']\n",
      "     ...\n",
      "\n",
      "Please use:\n",
      "\n",
      "  def update(self, *args, **kwagrs):\n",
      "     t = bp.share['t']\n",
      "     ...\n",
      "\n",
      "  warnings.warn(_update_deprecate_msg, UserWarning)\n"
     ]
    },
    {
     "name": "stdout",
     "output_type": "stream",
     "text": [
      "0.0\n",
      "0.03333333333333333\n",
      "0.06666666666666667\n",
      "0.1\n",
      "0.13333333333333333\n",
      "0.16666666666666666\n",
      "0.2\n",
      "0.23333333333333334\n",
      "0.26666666666666666\n",
      "0.3\n",
      "0.3333333333333333\n",
      "0.36666666666666664\n",
      "0.4\n",
      "0.43333333333333335\n",
      "0.4666666666666667\n",
      "0.5\n",
      "0.5333333333333333\n",
      "0.5666666666666667\n",
      "0.6\n",
      "0.6333333333333333\n",
      "0.6666666666666666\n",
      "0.7\n",
      "0.7333333333333333\n",
      "0.7666666666666667\n",
      "0.8\n",
      "0.8333333333333334\n",
      "0.8666666666666667\n",
      "0.9\n",
      "0.9333333333333333\n",
      "0.9666666666666667\n"
     ]
    }
   ],
   "source": [
    "N = 30\n",
    "\n",
    "all_stepsize = {}\n",
    "all_fr = {}\n",
    "all_bump_center = {}\n",
    "\n",
    "#!!! @Tianhao: change the mbar value to add adaptation to the network \n",
    "\n",
    "for simulation_i in range(N):\n",
    "    stepsize, ave_fr, bump_center = get_results(mbar=0.99, sigma_m=0.1, sigma_u=0.02)\n",
    "    \n",
    "    #change stepsize from m to cm\n",
    "    stepsize = stepsize * 100\n",
    "    #time all_fr_list by 1000 to get Hz \n",
    "    ave_fr = ave_fr * 1000\n",
    "    \n",
    "    all_stepsize[simulation_i] = stepsize\n",
    "    all_fr[simulation_i] = ave_fr\n",
    "    all_bump_center[simulation_i] = bump_center\n",
    "    print(simulation_i/N)\n",
    " \n"
   ]
  },
  {
   "cell_type": "code",
   "execution_count": 14,
   "metadata": {},
   "outputs": [
    {
     "data": {
      "text/plain": [
       "[<matplotlib.lines.Line2D at 0x140121e50>]"
      ]
     },
     "execution_count": 14,
     "metadata": {},
     "output_type": "execute_result"
    },
    {
     "data": {
      "image/png": "[encoded data removed]",
      "text/plain": [
       "<Figure size 800x600 with 1 Axes>"
      ]
     },
     "metadata": {},
     "output_type": "display_data"
    }
   ],
   "source": [
    " #plot bump_center\n",
    "fig = plt.figure(figsize=(8, 6))\n",
    "plt.plot(bump_center)"
   ]
  },
  {
   "cell_type": "code",
   "execution_count": 15,
   "metadata": {},
   "outputs": [],
   "source": [
    "#scatter plot of stepsize and fr\n",
    "fig = plt.figure(figsize=(4.15, 2.4), dpi=300)\n",
    "gs = gridspec.GridSpec(1, 2)\n",
    "labelsize = 10\n",
    "ticksize = 8\n",
    "\n",
    "ax1 = fig.add_subplot(gs[0, 0])\n",
    "\n",
    "all_stepsize_list = np.concatenate(list(all_stepsize.values()))\n",
    "all_fr_list = np.concatenate(list(all_fr.values())) \n",
    "\n",
    "#filterout stepsize that is larger than 50 in all_stepsize_list and all_fr_list\n",
    "index = all_stepsize_list < 50\n",
    "all_stepsize_list = all_stepsize_list[index]\n",
    "all_fr_list = all_fr_list[index]\n",
    "\n",
    "ax1.scatter(all_stepsize_list, all_fr_list, s=1, c='#009FB9', alpha=0.05)\n",
    "ax1.set_xlabel('Stepsize (cm)', fontsize=labelsize)\n",
    "ax1.set_ylabel('Firing rate (Hz)', fontsize=labelsize)\n",
    "\n",
    "#pearson correlation of new_stepsize and new_fr\n",
    "r, p = scipy.stats.pearsonr(all_stepsize_list, all_fr_list)\n",
    "if p<0.001:\n",
    "    ax1.text(0.6, 0.8, f'r={r:.2f}\\np<0.001', transform=plt.gca().transAxes, fontsize=ticksize)\n",
    "else:\n",
    "    ax1.text(0.6, 0.8, f'r={r:.2f}\\np={p:.3f}', transform=plt.gca().transAxes, fontsize=ticksize)\n",
    "    \n",
    "ax1.tick_params(axis='both', which='major', labelsize=labelsize)\n",
    "#yticks in scientific notation\n",
    "ax1.ticklabel_format(axis='y', style='sci', scilimits=(0,0), useMathText=True)\n",
    "\n",
    "\n",
    "#bin the step size and get the mean fr in each binned stepsize\n",
    "#this will make the negtive correlation more obvious\n",
    "ax2 = fig.add_subplot(gs[0, 1])\n",
    "\n",
    "#find the max stepsize by min max of all_stepsize_list\n",
    "max_stepsize = np.max(all_stepsize_list)\n",
    "#max_stepsize = 20\n",
    "all_fr_binned = {}\n",
    "for key in all_stepsize.keys():\n",
    "    stepsize_i = all_stepsize[key]\n",
    "    fr_i = all_fr[key]\n",
    "    \n",
    "    bins  = np.linspace(0, max_stepsize, 7)\n",
    "    inds = np.digitize(stepsize_i, bins)\n",
    "    fr_i_binned = [np.sum(fr_i[inds==i]) for i in range(1, len(bins))]\n",
    "\n",
    "    all_fr_binned[key] = fr_i_binned[1:]\n",
    "    \n",
    "#chaneg the dictionary to array\n",
    "all_fr_binned = np.array(list(all_fr_binned.values()))\n",
    "\n",
    "#do boxplot with showing nanmean and nanmedian  \n",
    "\n",
    "ax2.boxplot(all_fr_binned, showmeans=True, meanline=True, showfliers=False, \n",
    "            flierprops=dict(markersize=3), \n",
    "            meanprops=dict(color='#F18D00', linestyle='-', linewidth=1), \n",
    "            medianprops=dict(color='#009FB9', alpha=0))\n",
    "\n",
    "ax2.set_xlabel('Stepsize (cm)', fontsize=labelsize)\n",
    "ax2.set_ylabel('Summed firing \\n rate (Hz)', fontsize=labelsize)\n",
    "\n",
    "#set the xlabels for each bin using values in bins, leep one decimal\n",
    "# ax2.set_xticklabels([f'{bins[i]}-{bins[i+1]}' for i in range(0, len(bins)-1)], rotation=45, ha='right')\n",
    "ax2.set_xticklabels([f'{bins[i]:.0f}-{bins[i+1]:.0f}' for i in range(1, len(bins)-1)], rotation=45, ha='right')\n",
    "\n",
    "#ylabel in scientific notation\n",
    "ax2.ticklabel_format(axis='y', style='sci', scilimits=(0,0), useMathText=True)\n",
    "\n",
    "#remove top and right spines for ax1 and ax2\n",
    "for ax in [ax1, ax2]:\n",
    "    ax.spines['top'].set_visible(False)\n",
    "    ax.spines['right'].set_visible(False)\n",
    "    #set x y tick labels as ticksize\n",
    "    ax.tick_params(axis='both', which='major', labelsize=ticksize)\n",
    "\n",
    "#add a super title\n",
    "fig.suptitle('Model prediction', fontsize=labelsize)\n",
    "\n",
    "plt.tight_layout()\n",
    "\n",
    "plt.savefig('./Fig6_anticorrelation_between_stepsize_neuralactivity_modelprediction.png', dpi=300)\n",
    "    "
   ]
  },
  {
   "cell_type": "code",
   "execution_count": null,
   "metadata": {},
   "outputs": [],
   "source": []
  }
 ],
 "metadata": {
  "kernelspec": {
   "display_name": "hippocampalsequence",
   "language": "python",
   "name": "python3"
  },
  "language_info": {
   "codemirror_mode": {
    "name": "ipython",
    "version": 3
   },
   "file_extension": ".py",
   "mimetype": "text/x-python",
   "name": "python",
   "nbconvert_exporter": "python",
   "pygments_lexer": "ipython3",
   "version": "3.11.0"
  },
  "orig_nbformat": 4
 },
 "nbformat": 4,
 "nbformat_minor": 2
}
