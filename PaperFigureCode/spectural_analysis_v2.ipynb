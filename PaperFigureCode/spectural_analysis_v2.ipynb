{
 "cells": [
  {
   "cell_type": "code",
   "execution_count": 1,
   "metadata": {},
   "outputs": [
    {
     "name": "stderr",
     "output_type": "stream",
     "text": [
      "/home/zilong/anaconda3/envs/hippocampalsequence/lib/python3.10/site-packages/tqdm/auto.py:21: TqdmWarning: IProgress not found. Please update jupyter and ipywidgets. See https://ipywidgets.readthedocs.io/en/stable/user_install.html\n",
      "  from .autonotebook import tqdm as notebook_tqdm\n"
     ]
    }
   ],
   "source": [
    "import brainpy as bp\n",
    "import brainpy.math as bm\n",
    "import numpy as np\n",
    "import matplotlib.pyplot as plt\n",
    "import scipy\n",
    "from scipy.linalg import eig\n",
    "#gridspec\n",
    "import matplotlib.gridspec as gridspec\n",
    "from mpl_toolkits.axes_grid1.inset_locator import inset_axes\n",
    "\n",
    "import sys\n",
    "sys.path.append('..')\n",
    "from cann import CANN1D"
   ]
  },
  {
   "cell_type": "markdown",
   "metadata": {},
   "source": [
    "### set the hyper-parameters and functions"
   ]
  },
  {
   "cell_type": "code",
   "execution_count": 2,
   "metadata": {},
   "outputs": [],
   "source": [
    "N = 128 #network size, i.e., number of place cells\n",
    "M = 10 #truncate the number of eigenvalues, i.e., Fourier modes? \n",
    "epsilon = 1 #pertub strength, relating to the adaptation strength\n",
    "offset = 10 #offset, relating to the distance between U bump and V bump"
   ]
  },
  {
   "cell_type": "code",
   "execution_count": 3,
   "metadata": {},
   "outputs": [],
   "source": [
    "#generate a pertubation matrix with offset-th diagonal values equal to epsilon, other values are zero\n",
    "def get_pertub_mat(N, epsilon, offset):\n",
    "    '''\n",
    "    get a circular matrix with offset-th diagonal values equal to epsilon, other values are zero\n",
    "    N: int, the size of the matrix\n",
    "    epsilon: float, the value of the offset-th diagonal\n",
    "    offset: int, the offset of the diagonal\n",
    "    '''\n",
    "    pertub_mat = np.zeros((N, N))\n",
    "    for i in range(N):\n",
    "        if i+offset < N:\n",
    "            pertub_mat[i, i+offset] = epsilon\n",
    "        else:\n",
    "            pertub_mat[i, i+offset-N] = epsilon\n",
    "    return pertub_mat\n",
    "\n",
    "def get_pertub_mat_4_visualization(N, epsilon, offset, width=5):\n",
    "    '''\n",
    "    get a circular matrix with offset-th diagonal values equal to epsilon, other values are zero\n",
    "    N: int, the size of the matrix\n",
    "    epsilon: float, the value of the offset-th diagonal\n",
    "    offset: int, the offset of the diagonal\n",
    "    '''\n",
    "    pertub_mat = np.zeros((N, N))\n",
    "    for i in range(N):\n",
    "        if i+offset < N:\n",
    "            pertub_mat[i, i+offset-width:i+offset+width] = epsilon\n",
    "        else:\n",
    "            pertub_mat[i, i+offset-width-N:i+offset+width-N] = epsilon\n",
    "    return pertub_mat\n"
   ]
  },
  {
   "cell_type": "markdown",
   "metadata": {},
   "source": [
    "### plot perturbation matrix"
   ]
  },
  {
   "cell_type": "code",
   "execution_count": 40,
   "metadata": {},
   "outputs": [
    {
     "data": {
      "image/png": "[encoded data removed]",
      "text/plain": [
       "<Figure size 1200x300 with 5 Axes>"
      ]
     },
     "metadata": {},
     "output_type": "display_data"
    }
   ],
   "source": [
    "#get the connection matrix from the CANN, i.e., the generator\n",
    "replay_cann = CANN1D(tau=1., tau_v=48., num=N, mbar=1.5)\n",
    "\n",
    "weight_mat = np.zeros((N, N))\n",
    "for i in range(N):\n",
    "    weight_vec = replay_cann.make_conn_i(i)\n",
    "    weight_mat[i,:] = weight_vec\n",
    "\n",
    "offset = 30\n",
    "\n",
    "fig = plt.figure(figsize=(4, 1), dpi=300)\n",
    "labelsize = 10\n",
    "ticksize = 8\n",
    "#gridspec.GridSpec(2, 2)\n",
    "gs = gridspec.GridSpec(1, 5)\n",
    "\n",
    "#generate a M vector with Gaussian bump using numpy center at N/2\n",
    "M=10\n",
    "x = np.arange(M)\n",
    "y = np.exp(-((x-M/1.5)**2)/(2*3**2))\n",
    "y = y/np.sum(y)\n",
    "y = 1-y\n",
    "#plot the vector in the vertical way\n",
    "ax0 = fig.add_subplot(gs[0, 0])\n",
    "ax0.imshow(y[:, np.newaxis], cmap='gray', vmin=np.min(y), vmax=np.max(y))\n",
    "ax0.set_yticks([]); ax0.set_xticks([])\n",
    "ax0.set_title(r\"$U_{t+1}$\", fontsize=labelsize)\n",
    "\n",
    "#plot the connection matrix\n",
    "ax1 = fig.add_subplot(gs[0, 1])\n",
    "minval = np.min(weight_mat)\n",
    "maxval = np.max(weight_mat)\n",
    "ax1.imshow(weight_mat, cmap='gray', vmin=minval-epsilon, vmax=maxval)\n",
    "ax1.set_yticks([]); ax1.set_xticks([])\n",
    "ax1.set_title(r\"$O$\", fontsize=labelsize)\n",
    "\n",
    "#plot the pertubation matrix 1\n",
    "ax2 = fig.add_subplot(gs[0, 2])\n",
    "pertub_mat_1 = get_pertub_mat_4_visualization(N, epsilon, offset, width=3)\n",
    "ax2.imshow(pertub_mat_1, cmap='gray', vmin=minval-epsilon, vmax=maxval)\n",
    "ax2.set_yticks([]); ax2.set_xticks([])\n",
    "ax2.set_title(r\"$C$\", fontsize=labelsize)\n",
    "\n",
    "#subtract the pertubation matrix 1 from the connection matrix and plot\n",
    "ax3 = fig.add_subplot(gs[0, 3])\n",
    "ax3.imshow(weight_mat-pertub_mat_1, cmap='gray', vmin=minval-epsilon, vmax=maxval)\n",
    "ax3.set_yticks([]); ax3.set_xticks([])\n",
    "ax3.set_title(r\"$O-C$\", fontsize=labelsize)\n",
    "\n",
    "#generate a M vector with Gaussian bump using numpy center at N/2\n",
    "x = np.arange(M)\n",
    "y = np.exp(-((x-M/2)**2)/(2*3**2))\n",
    "y = y/np.sum(y)\n",
    "y = 1-y\n",
    "#plot the vector in the vertical way\n",
    "ax4 = fig.add_subplot(gs[0, 4])\n",
    "ax4.imshow(y[:, np.newaxis], cmap='gray', vmin=np.min(y), vmax=np.max(y))\n",
    "ax4.set_yticks([]); ax0.set_xticks([])\n",
    "ax4.set_title(r\"$U_{t}$\", fontsize=labelsize)\n",
    "\n",
    "#set axis off\n",
    "for ax in [ax0, ax1, ax2, ax3, ax4]:\n",
    "    ax.axis('off')\n",
    "\n",
    "plt.tight_layout()\n",
    "\n",
    "#save the figure\n",
    "plt.savefig('./Fig7_v2_pertubation_%d.pdf'%offset, dpi=300)"
   ]
  },
  {
   "cell_type": "code",
   "execution_count": 16,
   "metadata": {},
   "outputs": [
    {
     "data": {
      "text/plain": [
       "array([1.49110942, 1.4726151 , 1.43430704, 1.3772694 , 1.32142803,\n",
       "       1.29765144, 1.32142803, 1.3772694 , 1.43430704, 1.4726151 ])"
      ]
     },
     "execution_count": 16,
     "metadata": {},
     "output_type": "execute_result"
    }
   ],
   "source": [
    "y"
   ]
  },
  {
   "cell_type": "code",
   "execution_count": null,
   "metadata": {},
   "outputs": [],
   "source": []
  }
 ],
 "metadata": {
  "kernelspec": {
   "display_name": "hippocampalsequence",
   "language": "python",
   "name": "python3"
  },
  "language_info": {
   "codemirror_mode": {
    "name": "ipython",
    "version": 3
   },
   "file_extension": ".py",
   "mimetype": "text/x-python",
   "name": "python",
   "nbconvert_exporter": "python",
   "pygments_lexer": "ipython3",
   "version": "3.10.11"
  }
 },
 "nbformat": 4,
 "nbformat_minor": 2
}
